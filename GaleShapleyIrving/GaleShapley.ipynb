{
  "nbformat": 4,
  "nbformat_minor": 0,
  "metadata": {
    "colab": {
      "name": "GaleShapley.ipynb",
      "provenance": []
    },
    "kernelspec": {
      "name": "python3",
      "display_name": "Python 3"
    }
  },
  "cells": [
    {
      "cell_type": "code",
      "metadata": {
        "colab": {
          "base_uri": "https://localhost:8080/"
        },
        "id": "fgE0h_HUsjO2",
        "outputId": "7cab03c0-c7ca-4aca-e09c-cc9159ed0e8e"
      },
      "source": [
        "%pylab inline\n",
        "import pandas as pd\n",
        "import numpy as np\n",
        "from collections import Counter\n",
        "from copy import copy"
      ],
      "execution_count": 1,
      "outputs": [
        {
          "output_type": "stream",
          "text": [
            "Populating the interactive namespace from numpy and matplotlib\n"
          ],
          "name": "stdout"
        }
      ]
    },
    {
      "cell_type": "code",
      "metadata": {
        "id": "XkGbo7H0DumX"
      },
      "source": [
        "def diccionario_mujeres(n,listas):\n",
        "\n",
        "  women_list = obtener_mujeres(n)\n",
        "\n",
        "  d = {}\n",
        "  \n",
        "  for i in range(len(women_list)):\n",
        "    d[women_list[i]] = listas[i]\n",
        "  return d"
      ],
      "execution_count": 2,
      "outputs": []
    },
    {
      "cell_type": "code",
      "metadata": {
        "id": "68WvupHED1Mj"
      },
      "source": [
        "def diccionario_hombres(n,listas):\n",
        "\n",
        "  #Trasponer laa lista de preferencia, pues es necesario para el dataframe\n",
        "  man_list = obtener_mujeres(n)\n",
        "\n",
        "  listas = list(map(list, zip(*listas)))\n",
        "  d = {}\n",
        "  \n",
        "  for i in range(len(man_list)):\n",
        "    d[man_list[i]] = listas[i]\n",
        "  return d"
      ],
      "execution_count": 3,
      "outputs": []
    },
    {
      "cell_type": "code",
      "metadata": {
        "id": "oiyNtyz9DaHF"
      },
      "source": [
        "def obtener_hombres(n):\n",
        "  lista = []\n",
        "  for i in range(1,n+1):\n",
        "    s = 'H'\n",
        "    Mi = s+ str(i)\n",
        "    lista.append(Mi)\n",
        "  return lista"
      ],
      "execution_count": 4,
      "outputs": []
    },
    {
      "cell_type": "code",
      "metadata": {
        "id": "xL8vFIOBDbfa"
      },
      "source": [
        "def obtener_mujeres(n):\n",
        "  lista = []\n",
        "  for i in range(1,n+1):\n",
        "    s = 'M'\n",
        "    Mi = s+ str(i)\n",
        "    lista.append(Mi)\n",
        "  return lista"
      ],
      "execution_count": 5,
      "outputs": []
    },
    {
      "cell_type": "code",
      "metadata": {
        "id": "GGJQSyD8CLbJ"
      },
      "source": [
        "def dataframe_mujeres(n,listas):\n",
        "  women_df = pd.DataFrame(diccionario_mujeres(n,listas))\n",
        "  man_list = obtener_hombres(n)\n",
        "  women_df.index = man_list\n",
        "  return women_df"
      ],
      "execution_count": 6,
      "outputs": []
    },
    {
      "cell_type": "code",
      "metadata": {
        "id": "9OVbKDd6CP1m"
      },
      "source": [
        "def dataframe_hombres(n,listas):\n",
        "  man_df = pd.DataFrame(diccionario_hombres(n,listas))\n",
        "  man_list = obtener_hombres(n)\n",
        "  man_df.index = man_list\n",
        "  return man_df"
      ],
      "execution_count": 7,
      "outputs": []
    },
    {
      "cell_type": "code",
      "metadata": {
        "id": "ShwgFoeOuvx9"
      },
      "source": [
        "def GaleShapley(n, preferencias_mujeres, preferencias_hombres):\n",
        "\n",
        "  man_list = obtener_hombres(n)\n",
        "  women_list = obtener_mujeres(n)\n",
        "\n",
        "  women_df = dataframe_mujeres(n,preferencias_mujeres)\n",
        "  man_df = dataframe_hombres(n, preferencias_hombres)\n",
        "\n",
        "  # dict to control which women each man can make proposals\n",
        "  women_available = {man:women_list for man in man_list}\n",
        "  # waiting list of men that were able to create pair on each iteration\n",
        "  waiting_list = []\n",
        "  # dict to store created pairs\n",
        "  proposals = {}\n",
        "  # variable to count number of iterations\n",
        "  count = 0\n",
        "\n",
        "\n",
        "\n",
        "  # while not all men have pairs\n",
        "  while len(waiting_list)<len(man_list):\n",
        "      # man makes proposals\n",
        "      for man in man_list:\n",
        "          if man not in waiting_list:\n",
        "              # each man make proposal to the top women from it's list\n",
        "              women = women_available[man]\n",
        "              best_choice = man_df.loc[man][man_df.loc[man].index.isin(women)].idxmin()\n",
        "              proposals[(man, best_choice)]=(man_df.loc[man][best_choice],\n",
        "                                                  women_df.loc[man][best_choice])\n",
        "      # if women have more than one proposals \n",
        "      # she will choose the best option\n",
        "      overlays = Counter([key[1] for key in proposals.keys()])\n",
        "      # cycle to choose the best options\n",
        "      for women in overlays.keys():\n",
        "          if overlays[women]>1:\n",
        "              # pairs to drop from proposals\n",
        "              pairs_to_drop = sorted({pair: proposals[pair] for pair in proposals.keys() \n",
        "                      if women in pair}.items(), \n",
        "                    key=lambda x: x[1][1]\n",
        "                    )[1:]\n",
        "              # if man was rejected by woman\n",
        "              # there is no pint for him to make proposal \n",
        "              # second time to the same woman\n",
        "              for p_to_drop in pairs_to_drop:\n",
        "                  del proposals[p_to_drop[0]]\n",
        "                  _women = copy(women_available[p_to_drop[0][0]])\n",
        "                  _women.remove(p_to_drop[0][1])\n",
        "                  women_available[p_to_drop[0][0]] = _women\n",
        "      # man who successfully created pairs must be added to the waiting list \n",
        "      waiting_list = [man[0] for man in proposals.keys()]\n",
        "      # update counter\n",
        "      count+=1\n",
        "\n",
        "  #print(proposals)\n",
        "  #print(count)\n",
        "\n",
        "  return count"
      ],
      "execution_count": 8,
      "outputs": []
    },
    {
      "cell_type": "markdown",
      "metadata": {
        "id": "Ehjh5tcGEEm0"
      },
      "source": [
        "#Punto 1\n",
        "## n = 4\n",
        "### mejor caso\n",
        "- Para obtener el mejor podemos verlo teoricamente, primeramente el mejor caso seria aquel que solo tiene una iteracion, donde cada hombre le hace una propuesta a una mujer diferente y esta acepta, acabando el algoritmo con solo n propuestas, con lo cual podemos obtener muchos dataframes como el mejor solo teniendo en cuenta que cada hombre prefiere como a su mujer preferida a una diferente a la de los demas y lo cual sera lo mismo con las mujeres, lo cual nos da como resultado que tendriamos n propuestas y una sola iteracion o dia"
      ]
    },
    {
      "cell_type": "code",
      "metadata": {
        "id": "QMm2rdTgfL0i"
      },
      "source": [
        "m_list = ['a', 'b', 'c', 'd']\n",
        "w_list = ['A', 'B', 'C', 'D']"
      ],
      "execution_count": 9,
      "outputs": []
    },
    {
      "cell_type": "code",
      "metadata": {
        "id": "NGEihbk7GlGX"
      },
      "source": [
        "w_df = pd.DataFrame({'A': [2,1,3,4], 'B': [1,2,4,3], 'C':[3,4,2,1], 'D':[4,3,1,2]})\n",
        "w_df.index = m_list\n",
        "m_df = pd.DataFrame({'A': [2,1,3,4], 'B': [1,2,4,3], 'C':[3,4,2,1], 'D':[4,3,1,2]})\n",
        "m_df.index = m_list"
      ],
      "execution_count": 10,
      "outputs": []
    },
    {
      "cell_type": "code",
      "metadata": {
        "colab": {
          "base_uri": "https://localhost:8080/",
          "height": 166
        },
        "id": "p05TbnGwO2DL",
        "outputId": "617ff69a-2030-4de9-da38-ba63c7acfe0d"
      },
      "source": [
        "w_df"
      ],
      "execution_count": 11,
      "outputs": [
        {
          "output_type": "execute_result",
          "data": {
            "text/html": [
              "<div>\n",
              "<style scoped>\n",
              "    .dataframe tbody tr th:only-of-type {\n",
              "        vertical-align: middle;\n",
              "    }\n",
              "\n",
              "    .dataframe tbody tr th {\n",
              "        vertical-align: top;\n",
              "    }\n",
              "\n",
              "    .dataframe thead th {\n",
              "        text-align: right;\n",
              "    }\n",
              "</style>\n",
              "<table border=\"1\" class=\"dataframe\">\n",
              "  <thead>\n",
              "    <tr style=\"text-align: right;\">\n",
              "      <th></th>\n",
              "      <th>A</th>\n",
              "      <th>B</th>\n",
              "      <th>C</th>\n",
              "      <th>D</th>\n",
              "    </tr>\n",
              "  </thead>\n",
              "  <tbody>\n",
              "    <tr>\n",
              "      <th>a</th>\n",
              "      <td>2</td>\n",
              "      <td>1</td>\n",
              "      <td>3</td>\n",
              "      <td>4</td>\n",
              "    </tr>\n",
              "    <tr>\n",
              "      <th>b</th>\n",
              "      <td>1</td>\n",
              "      <td>2</td>\n",
              "      <td>4</td>\n",
              "      <td>3</td>\n",
              "    </tr>\n",
              "    <tr>\n",
              "      <th>c</th>\n",
              "      <td>3</td>\n",
              "      <td>4</td>\n",
              "      <td>2</td>\n",
              "      <td>1</td>\n",
              "    </tr>\n",
              "    <tr>\n",
              "      <th>d</th>\n",
              "      <td>4</td>\n",
              "      <td>3</td>\n",
              "      <td>1</td>\n",
              "      <td>2</td>\n",
              "    </tr>\n",
              "  </tbody>\n",
              "</table>\n",
              "</div>"
            ],
            "text/plain": [
              "   A  B  C  D\n",
              "a  2  1  3  4\n",
              "b  1  2  4  3\n",
              "c  3  4  2  1\n",
              "d  4  3  1  2"
            ]
          },
          "metadata": {
            "tags": []
          },
          "execution_count": 11
        }
      ]
    },
    {
      "cell_type": "code",
      "metadata": {
        "colab": {
          "base_uri": "https://localhost:8080/",
          "height": 166
        },
        "id": "daVdj-NHPEGp",
        "outputId": "3faf3ce2-6b6d-4cb5-f285-3bfe18293200"
      },
      "source": [
        "m_df"
      ],
      "execution_count": 12,
      "outputs": [
        {
          "output_type": "execute_result",
          "data": {
            "text/html": [
              "<div>\n",
              "<style scoped>\n",
              "    .dataframe tbody tr th:only-of-type {\n",
              "        vertical-align: middle;\n",
              "    }\n",
              "\n",
              "    .dataframe tbody tr th {\n",
              "        vertical-align: top;\n",
              "    }\n",
              "\n",
              "    .dataframe thead th {\n",
              "        text-align: right;\n",
              "    }\n",
              "</style>\n",
              "<table border=\"1\" class=\"dataframe\">\n",
              "  <thead>\n",
              "    <tr style=\"text-align: right;\">\n",
              "      <th></th>\n",
              "      <th>A</th>\n",
              "      <th>B</th>\n",
              "      <th>C</th>\n",
              "      <th>D</th>\n",
              "    </tr>\n",
              "  </thead>\n",
              "  <tbody>\n",
              "    <tr>\n",
              "      <th>a</th>\n",
              "      <td>2</td>\n",
              "      <td>1</td>\n",
              "      <td>3</td>\n",
              "      <td>4</td>\n",
              "    </tr>\n",
              "    <tr>\n",
              "      <th>b</th>\n",
              "      <td>1</td>\n",
              "      <td>2</td>\n",
              "      <td>4</td>\n",
              "      <td>3</td>\n",
              "    </tr>\n",
              "    <tr>\n",
              "      <th>c</th>\n",
              "      <td>3</td>\n",
              "      <td>4</td>\n",
              "      <td>2</td>\n",
              "      <td>1</td>\n",
              "    </tr>\n",
              "    <tr>\n",
              "      <th>d</th>\n",
              "      <td>4</td>\n",
              "      <td>3</td>\n",
              "      <td>1</td>\n",
              "      <td>2</td>\n",
              "    </tr>\n",
              "  </tbody>\n",
              "</table>\n",
              "</div>"
            ],
            "text/plain": [
              "   A  B  C  D\n",
              "a  2  1  3  4\n",
              "b  1  2  4  3\n",
              "c  3  4  2  1\n",
              "d  4  3  1  2"
            ]
          },
          "metadata": {
            "tags": []
          },
          "execution_count": 12
        }
      ]
    },
    {
      "cell_type": "markdown",
      "metadata": {
        "id": "Phdd2QMCoFPy"
      },
      "source": [
        "## peor caso\n",
        "- Para obtener el peor caso, podemos verlo de forma teorica como que cada mujer puede recibir como maximo n propuestas, excepto la ultima por lo tanto tendriamos n(n-1), sin embargo en un ultimo dia recibira la propuesta con la que termina el algoritmo por lo tanto nos queda n(n-1)+1 propuestas, \n",
        "Ahora miramos que n propuestas se realizan el primer día, y al menos 1 cada día a partir de entonces hasta que finalice el proceso, por lo que n (n − 1) +1 propuestas tomarán como máximo 1+ (n (n − 1) + 1− n) = n2−2n + 2 días."
      ]
    },
    {
      "cell_type": "code",
      "metadata": {
        "id": "k29YP2Pcy38m"
      },
      "source": [
        "def obtenerLista1n(n):\n",
        "  return list(range(1,n+1))"
      ],
      "execution_count": 13,
      "outputs": []
    },
    {
      "cell_type": "code",
      "metadata": {
        "id": "yHvNGxNB6Cs6"
      },
      "source": [
        "def obtenerListain(i,n):\n",
        "  return list(range(i,n+1))"
      ],
      "execution_count": 14,
      "outputs": []
    },
    {
      "cell_type": "code",
      "metadata": {
        "id": "QOrN7cVc6G7g"
      },
      "source": [
        "def peorCaso(n):\n",
        "  list_m =[]\n",
        "  list_w = []\n",
        "  for i in range(1,n+1):\n",
        "    corte1 = obtenerListain(i,n-1)\n",
        "    corte2 = obtenerLista1n(i-1) + [n]\n",
        "    fila = corte1 + corte2\n",
        "    list_m.append(fila)\n",
        "\n",
        "    corte3 = obtenerListain(i+1,n)\n",
        "    corte4 = obtenerLista1n(i)\n",
        "    fila2 = corte3 + corte4\n",
        "    list_w.append(fila2)\n",
        "\n",
        "  return list_m, list_w"
      ],
      "execution_count": 15,
      "outputs": []
    },
    {
      "cell_type": "code",
      "metadata": {
        "id": "S3ADTkLo_uIz"
      },
      "source": [
        "def pasar_notacion(lista):\n",
        "  l = len(lista)\n",
        "  respuesta =[0]*l\n",
        "  for i in range(l):\n",
        "    respuesta[lista[i]-1]= i+1\n",
        "  return respuesta"
      ],
      "execution_count": 16,
      "outputs": []
    },
    {
      "cell_type": "code",
      "metadata": {
        "id": "vgh2JotH_9wu"
      },
      "source": [
        "def pasar_notaciones(listas):\n",
        "  l = len(listas)\n",
        "  for i in range(l):\n",
        "    listas[i] = pasar_notacion(listas[i])\n",
        "  return listas"
      ],
      "execution_count": 17,
      "outputs": []
    },
    {
      "cell_type": "code",
      "metadata": {
        "id": "lLRMDokuADO8"
      },
      "source": [
        "def obtenerPeorCaso(n):\n",
        "  m,w = peorCaso(n)\n",
        "  m1 = pasar_notaciones(m)\n",
        "  w1 = pasar_notaciones(w)\n",
        "\n",
        "  print(\"Listas de preferencia de los hombres\\n\")\n",
        "  ch = 1\n",
        "\n",
        "  for fila in m:\n",
        "      label = 'H'+str(ch)+':   '\n",
        "      print(label,*fila)\n",
        "      ch = ch +1\n",
        "\n",
        "  print(\"\\n\\nListas de preferencia de las mujeres\\n\\n\")\n",
        "  cm = 1\n",
        "  for fila in w:\n",
        "      label = 'M'+str(cm)+':   '\n",
        "      print(label,*fila)\n",
        "      cm = cm +1\n",
        "\n",
        "  print(\"\\nel numero de iteraciones fue\", GaleShapley(n,w,m))"
      ],
      "execution_count": 18,
      "outputs": []
    },
    {
      "cell_type": "code",
      "metadata": {
        "colab": {
          "base_uri": "https://localhost:8080/"
        },
        "id": "SSRBCaoACm2Q",
        "outputId": "19348398-8cbe-4908-db57-77ee25ef570e"
      },
      "source": [
        "obtenerPeorCaso(4)"
      ],
      "execution_count": 19,
      "outputs": [
        {
          "output_type": "stream",
          "text": [
            "Listas de preferencia de los hombres\n",
            "\n",
            "H1:    1 2 3 4\n",
            "H2:    3 1 2 4\n",
            "H3:    2 3 1 4\n",
            "H4:    1 2 3 4\n",
            "\n",
            "\n",
            "Listas de preferencia de las mujeres\n",
            "\n",
            "\n",
            "M1:    4 1 2 3\n",
            "M2:    3 4 1 2\n",
            "M3:    2 3 4 1\n",
            "M4:    1 2 3 4\n",
            "\n",
            "el numero de iteraciones fue 10\n"
          ],
          "name": "stdout"
        }
      ]
    },
    {
      "cell_type": "markdown",
      "metadata": {
        "id": "RQqD7XUhGBTx"
      },
      "source": [
        "# n = 40\n",
        "## mejor caso\n",
        "- Para obtener el mejor podemos verlo teoricamente, primeramente el mejor caso seria aquel que solo tiene una iteracion, donde cada hombre le hace una propuesta a una mujer diferente y esta acepta, acabando el algoritmo con solo n propuestas, con lo cual podemos obtener muchos dataframes como el mejor solo teniendo en cuenta que cada hombre prefiere como a su primera mujer a una diferente, al igual que con 40 las listas de el hombre 1 y mujer 1 y asi sucesivamente deben ser iguales"
      ]
    },
    {
      "cell_type": "markdown",
      "metadata": {
        "id": "EDpi33CnGT49"
      },
      "source": [
        "## peor caso\n",
        "- Para obtener el peor caso, podemos verlo de forma teorica como que cada mujer puede recibir como maximo n propuestas"
      ]
    },
    {
      "cell_type": "code",
      "metadata": {
        "colab": {
          "base_uri": "https://localhost:8080/"
        },
        "id": "snE6rGndGN-y",
        "outputId": "9b1c9500-9147-4eff-a717-99f0713d95f3"
      },
      "source": [
        "obtenerPeorCaso(40)"
      ],
      "execution_count": 20,
      "outputs": [
        {
          "output_type": "stream",
          "text": [
            "Listas de preferencia de los hombres\n",
            "\n",
            "H1:    1 2 3 4 5 6 7 8 9 10 11 12 13 14 15 16 17 18 19 20 21 22 23 24 25 26 27 28 29 30 31 32 33 34 35 36 37 38 39 40\n",
            "H2:    39 1 2 3 4 5 6 7 8 9 10 11 12 13 14 15 16 17 18 19 20 21 22 23 24 25 26 27 28 29 30 31 32 33 34 35 36 37 38 40\n",
            "H3:    38 39 1 2 3 4 5 6 7 8 9 10 11 12 13 14 15 16 17 18 19 20 21 22 23 24 25 26 27 28 29 30 31 32 33 34 35 36 37 40\n",
            "H4:    37 38 39 1 2 3 4 5 6 7 8 9 10 11 12 13 14 15 16 17 18 19 20 21 22 23 24 25 26 27 28 29 30 31 32 33 34 35 36 40\n",
            "H5:    36 37 38 39 1 2 3 4 5 6 7 8 9 10 11 12 13 14 15 16 17 18 19 20 21 22 23 24 25 26 27 28 29 30 31 32 33 34 35 40\n",
            "H6:    35 36 37 38 39 1 2 3 4 5 6 7 8 9 10 11 12 13 14 15 16 17 18 19 20 21 22 23 24 25 26 27 28 29 30 31 32 33 34 40\n",
            "H7:    34 35 36 37 38 39 1 2 3 4 5 6 7 8 9 10 11 12 13 14 15 16 17 18 19 20 21 22 23 24 25 26 27 28 29 30 31 32 33 40\n",
            "H8:    33 34 35 36 37 38 39 1 2 3 4 5 6 7 8 9 10 11 12 13 14 15 16 17 18 19 20 21 22 23 24 25 26 27 28 29 30 31 32 40\n",
            "H9:    32 33 34 35 36 37 38 39 1 2 3 4 5 6 7 8 9 10 11 12 13 14 15 16 17 18 19 20 21 22 23 24 25 26 27 28 29 30 31 40\n",
            "H10:    31 32 33 34 35 36 37 38 39 1 2 3 4 5 6 7 8 9 10 11 12 13 14 15 16 17 18 19 20 21 22 23 24 25 26 27 28 29 30 40\n",
            "H11:    30 31 32 33 34 35 36 37 38 39 1 2 3 4 5 6 7 8 9 10 11 12 13 14 15 16 17 18 19 20 21 22 23 24 25 26 27 28 29 40\n",
            "H12:    29 30 31 32 33 34 35 36 37 38 39 1 2 3 4 5 6 7 8 9 10 11 12 13 14 15 16 17 18 19 20 21 22 23 24 25 26 27 28 40\n",
            "H13:    28 29 30 31 32 33 34 35 36 37 38 39 1 2 3 4 5 6 7 8 9 10 11 12 13 14 15 16 17 18 19 20 21 22 23 24 25 26 27 40\n",
            "H14:    27 28 29 30 31 32 33 34 35 36 37 38 39 1 2 3 4 5 6 7 8 9 10 11 12 13 14 15 16 17 18 19 20 21 22 23 24 25 26 40\n",
            "H15:    26 27 28 29 30 31 32 33 34 35 36 37 38 39 1 2 3 4 5 6 7 8 9 10 11 12 13 14 15 16 17 18 19 20 21 22 23 24 25 40\n",
            "H16:    25 26 27 28 29 30 31 32 33 34 35 36 37 38 39 1 2 3 4 5 6 7 8 9 10 11 12 13 14 15 16 17 18 19 20 21 22 23 24 40\n",
            "H17:    24 25 26 27 28 29 30 31 32 33 34 35 36 37 38 39 1 2 3 4 5 6 7 8 9 10 11 12 13 14 15 16 17 18 19 20 21 22 23 40\n",
            "H18:    23 24 25 26 27 28 29 30 31 32 33 34 35 36 37 38 39 1 2 3 4 5 6 7 8 9 10 11 12 13 14 15 16 17 18 19 20 21 22 40\n",
            "H19:    22 23 24 25 26 27 28 29 30 31 32 33 34 35 36 37 38 39 1 2 3 4 5 6 7 8 9 10 11 12 13 14 15 16 17 18 19 20 21 40\n",
            "H20:    21 22 23 24 25 26 27 28 29 30 31 32 33 34 35 36 37 38 39 1 2 3 4 5 6 7 8 9 10 11 12 13 14 15 16 17 18 19 20 40\n",
            "H21:    20 21 22 23 24 25 26 27 28 29 30 31 32 33 34 35 36 37 38 39 1 2 3 4 5 6 7 8 9 10 11 12 13 14 15 16 17 18 19 40\n",
            "H22:    19 20 21 22 23 24 25 26 27 28 29 30 31 32 33 34 35 36 37 38 39 1 2 3 4 5 6 7 8 9 10 11 12 13 14 15 16 17 18 40\n",
            "H23:    18 19 20 21 22 23 24 25 26 27 28 29 30 31 32 33 34 35 36 37 38 39 1 2 3 4 5 6 7 8 9 10 11 12 13 14 15 16 17 40\n",
            "H24:    17 18 19 20 21 22 23 24 25 26 27 28 29 30 31 32 33 34 35 36 37 38 39 1 2 3 4 5 6 7 8 9 10 11 12 13 14 15 16 40\n",
            "H25:    16 17 18 19 20 21 22 23 24 25 26 27 28 29 30 31 32 33 34 35 36 37 38 39 1 2 3 4 5 6 7 8 9 10 11 12 13 14 15 40\n",
            "H26:    15 16 17 18 19 20 21 22 23 24 25 26 27 28 29 30 31 32 33 34 35 36 37 38 39 1 2 3 4 5 6 7 8 9 10 11 12 13 14 40\n",
            "H27:    14 15 16 17 18 19 20 21 22 23 24 25 26 27 28 29 30 31 32 33 34 35 36 37 38 39 1 2 3 4 5 6 7 8 9 10 11 12 13 40\n",
            "H28:    13 14 15 16 17 18 19 20 21 22 23 24 25 26 27 28 29 30 31 32 33 34 35 36 37 38 39 1 2 3 4 5 6 7 8 9 10 11 12 40\n",
            "H29:    12 13 14 15 16 17 18 19 20 21 22 23 24 25 26 27 28 29 30 31 32 33 34 35 36 37 38 39 1 2 3 4 5 6 7 8 9 10 11 40\n",
            "H30:    11 12 13 14 15 16 17 18 19 20 21 22 23 24 25 26 27 28 29 30 31 32 33 34 35 36 37 38 39 1 2 3 4 5 6 7 8 9 10 40\n",
            "H31:    10 11 12 13 14 15 16 17 18 19 20 21 22 23 24 25 26 27 28 29 30 31 32 33 34 35 36 37 38 39 1 2 3 4 5 6 7 8 9 40\n",
            "H32:    9 10 11 12 13 14 15 16 17 18 19 20 21 22 23 24 25 26 27 28 29 30 31 32 33 34 35 36 37 38 39 1 2 3 4 5 6 7 8 40\n",
            "H33:    8 9 10 11 12 13 14 15 16 17 18 19 20 21 22 23 24 25 26 27 28 29 30 31 32 33 34 35 36 37 38 39 1 2 3 4 5 6 7 40\n",
            "H34:    7 8 9 10 11 12 13 14 15 16 17 18 19 20 21 22 23 24 25 26 27 28 29 30 31 32 33 34 35 36 37 38 39 1 2 3 4 5 6 40\n",
            "H35:    6 7 8 9 10 11 12 13 14 15 16 17 18 19 20 21 22 23 24 25 26 27 28 29 30 31 32 33 34 35 36 37 38 39 1 2 3 4 5 40\n",
            "H36:    5 6 7 8 9 10 11 12 13 14 15 16 17 18 19 20 21 22 23 24 25 26 27 28 29 30 31 32 33 34 35 36 37 38 39 1 2 3 4 40\n",
            "H37:    4 5 6 7 8 9 10 11 12 13 14 15 16 17 18 19 20 21 22 23 24 25 26 27 28 29 30 31 32 33 34 35 36 37 38 39 1 2 3 40\n",
            "H38:    3 4 5 6 7 8 9 10 11 12 13 14 15 16 17 18 19 20 21 22 23 24 25 26 27 28 29 30 31 32 33 34 35 36 37 38 39 1 2 40\n",
            "H39:    2 3 4 5 6 7 8 9 10 11 12 13 14 15 16 17 18 19 20 21 22 23 24 25 26 27 28 29 30 31 32 33 34 35 36 37 38 39 1 40\n",
            "H40:    1 2 3 4 5 6 7 8 9 10 11 12 13 14 15 16 17 18 19 20 21 22 23 24 25 26 27 28 29 30 31 32 33 34 35 36 37 38 39 40\n",
            "\n",
            "\n",
            "Listas de preferencia de las mujeres\n",
            "\n",
            "\n",
            "M1:    40 1 2 3 4 5 6 7 8 9 10 11 12 13 14 15 16 17 18 19 20 21 22 23 24 25 26 27 28 29 30 31 32 33 34 35 36 37 38 39\n",
            "M2:    39 40 1 2 3 4 5 6 7 8 9 10 11 12 13 14 15 16 17 18 19 20 21 22 23 24 25 26 27 28 29 30 31 32 33 34 35 36 37 38\n",
            "M3:    38 39 40 1 2 3 4 5 6 7 8 9 10 11 12 13 14 15 16 17 18 19 20 21 22 23 24 25 26 27 28 29 30 31 32 33 34 35 36 37\n",
            "M4:    37 38 39 40 1 2 3 4 5 6 7 8 9 10 11 12 13 14 15 16 17 18 19 20 21 22 23 24 25 26 27 28 29 30 31 32 33 34 35 36\n",
            "M5:    36 37 38 39 40 1 2 3 4 5 6 7 8 9 10 11 12 13 14 15 16 17 18 19 20 21 22 23 24 25 26 27 28 29 30 31 32 33 34 35\n",
            "M6:    35 36 37 38 39 40 1 2 3 4 5 6 7 8 9 10 11 12 13 14 15 16 17 18 19 20 21 22 23 24 25 26 27 28 29 30 31 32 33 34\n",
            "M7:    34 35 36 37 38 39 40 1 2 3 4 5 6 7 8 9 10 11 12 13 14 15 16 17 18 19 20 21 22 23 24 25 26 27 28 29 30 31 32 33\n",
            "M8:    33 34 35 36 37 38 39 40 1 2 3 4 5 6 7 8 9 10 11 12 13 14 15 16 17 18 19 20 21 22 23 24 25 26 27 28 29 30 31 32\n",
            "M9:    32 33 34 35 36 37 38 39 40 1 2 3 4 5 6 7 8 9 10 11 12 13 14 15 16 17 18 19 20 21 22 23 24 25 26 27 28 29 30 31\n",
            "M10:    31 32 33 34 35 36 37 38 39 40 1 2 3 4 5 6 7 8 9 10 11 12 13 14 15 16 17 18 19 20 21 22 23 24 25 26 27 28 29 30\n",
            "M11:    30 31 32 33 34 35 36 37 38 39 40 1 2 3 4 5 6 7 8 9 10 11 12 13 14 15 16 17 18 19 20 21 22 23 24 25 26 27 28 29\n",
            "M12:    29 30 31 32 33 34 35 36 37 38 39 40 1 2 3 4 5 6 7 8 9 10 11 12 13 14 15 16 17 18 19 20 21 22 23 24 25 26 27 28\n",
            "M13:    28 29 30 31 32 33 34 35 36 37 38 39 40 1 2 3 4 5 6 7 8 9 10 11 12 13 14 15 16 17 18 19 20 21 22 23 24 25 26 27\n",
            "M14:    27 28 29 30 31 32 33 34 35 36 37 38 39 40 1 2 3 4 5 6 7 8 9 10 11 12 13 14 15 16 17 18 19 20 21 22 23 24 25 26\n",
            "M15:    26 27 28 29 30 31 32 33 34 35 36 37 38 39 40 1 2 3 4 5 6 7 8 9 10 11 12 13 14 15 16 17 18 19 20 21 22 23 24 25\n",
            "M16:    25 26 27 28 29 30 31 32 33 34 35 36 37 38 39 40 1 2 3 4 5 6 7 8 9 10 11 12 13 14 15 16 17 18 19 20 21 22 23 24\n",
            "M17:    24 25 26 27 28 29 30 31 32 33 34 35 36 37 38 39 40 1 2 3 4 5 6 7 8 9 10 11 12 13 14 15 16 17 18 19 20 21 22 23\n",
            "M18:    23 24 25 26 27 28 29 30 31 32 33 34 35 36 37 38 39 40 1 2 3 4 5 6 7 8 9 10 11 12 13 14 15 16 17 18 19 20 21 22\n",
            "M19:    22 23 24 25 26 27 28 29 30 31 32 33 34 35 36 37 38 39 40 1 2 3 4 5 6 7 8 9 10 11 12 13 14 15 16 17 18 19 20 21\n",
            "M20:    21 22 23 24 25 26 27 28 29 30 31 32 33 34 35 36 37 38 39 40 1 2 3 4 5 6 7 8 9 10 11 12 13 14 15 16 17 18 19 20\n",
            "M21:    20 21 22 23 24 25 26 27 28 29 30 31 32 33 34 35 36 37 38 39 40 1 2 3 4 5 6 7 8 9 10 11 12 13 14 15 16 17 18 19\n",
            "M22:    19 20 21 22 23 24 25 26 27 28 29 30 31 32 33 34 35 36 37 38 39 40 1 2 3 4 5 6 7 8 9 10 11 12 13 14 15 16 17 18\n",
            "M23:    18 19 20 21 22 23 24 25 26 27 28 29 30 31 32 33 34 35 36 37 38 39 40 1 2 3 4 5 6 7 8 9 10 11 12 13 14 15 16 17\n",
            "M24:    17 18 19 20 21 22 23 24 25 26 27 28 29 30 31 32 33 34 35 36 37 38 39 40 1 2 3 4 5 6 7 8 9 10 11 12 13 14 15 16\n",
            "M25:    16 17 18 19 20 21 22 23 24 25 26 27 28 29 30 31 32 33 34 35 36 37 38 39 40 1 2 3 4 5 6 7 8 9 10 11 12 13 14 15\n",
            "M26:    15 16 17 18 19 20 21 22 23 24 25 26 27 28 29 30 31 32 33 34 35 36 37 38 39 40 1 2 3 4 5 6 7 8 9 10 11 12 13 14\n",
            "M27:    14 15 16 17 18 19 20 21 22 23 24 25 26 27 28 29 30 31 32 33 34 35 36 37 38 39 40 1 2 3 4 5 6 7 8 9 10 11 12 13\n",
            "M28:    13 14 15 16 17 18 19 20 21 22 23 24 25 26 27 28 29 30 31 32 33 34 35 36 37 38 39 40 1 2 3 4 5 6 7 8 9 10 11 12\n",
            "M29:    12 13 14 15 16 17 18 19 20 21 22 23 24 25 26 27 28 29 30 31 32 33 34 35 36 37 38 39 40 1 2 3 4 5 6 7 8 9 10 11\n",
            "M30:    11 12 13 14 15 16 17 18 19 20 21 22 23 24 25 26 27 28 29 30 31 32 33 34 35 36 37 38 39 40 1 2 3 4 5 6 7 8 9 10\n",
            "M31:    10 11 12 13 14 15 16 17 18 19 20 21 22 23 24 25 26 27 28 29 30 31 32 33 34 35 36 37 38 39 40 1 2 3 4 5 6 7 8 9\n",
            "M32:    9 10 11 12 13 14 15 16 17 18 19 20 21 22 23 24 25 26 27 28 29 30 31 32 33 34 35 36 37 38 39 40 1 2 3 4 5 6 7 8\n",
            "M33:    8 9 10 11 12 13 14 15 16 17 18 19 20 21 22 23 24 25 26 27 28 29 30 31 32 33 34 35 36 37 38 39 40 1 2 3 4 5 6 7\n",
            "M34:    7 8 9 10 11 12 13 14 15 16 17 18 19 20 21 22 23 24 25 26 27 28 29 30 31 32 33 34 35 36 37 38 39 40 1 2 3 4 5 6\n",
            "M35:    6 7 8 9 10 11 12 13 14 15 16 17 18 19 20 21 22 23 24 25 26 27 28 29 30 31 32 33 34 35 36 37 38 39 40 1 2 3 4 5\n",
            "M36:    5 6 7 8 9 10 11 12 13 14 15 16 17 18 19 20 21 22 23 24 25 26 27 28 29 30 31 32 33 34 35 36 37 38 39 40 1 2 3 4\n",
            "M37:    4 5 6 7 8 9 10 11 12 13 14 15 16 17 18 19 20 21 22 23 24 25 26 27 28 29 30 31 32 33 34 35 36 37 38 39 40 1 2 3\n",
            "M38:    3 4 5 6 7 8 9 10 11 12 13 14 15 16 17 18 19 20 21 22 23 24 25 26 27 28 29 30 31 32 33 34 35 36 37 38 39 40 1 2\n",
            "M39:    2 3 4 5 6 7 8 9 10 11 12 13 14 15 16 17 18 19 20 21 22 23 24 25 26 27 28 29 30 31 32 33 34 35 36 37 38 39 40 1\n",
            "M40:    1 2 3 4 5 6 7 8 9 10 11 12 13 14 15 16 17 18 19 20 21 22 23 24 25 26 27 28 29 30 31 32 33 34 35 36 37 38 39 40\n",
            "\n",
            "el numero de iteraciones fue 1522\n"
          ],
          "name": "stdout"
        }
      ]
    },
    {
      "cell_type": "markdown",
      "metadata": {
        "id": "q3y3gu55IiZ1"
      },
      "source": [
        "#Punto 2"
      ]
    },
    {
      "cell_type": "code",
      "metadata": {
        "id": "5J23Y5eVIk2R"
      },
      "source": [
        "import numpy as np\n",
        "\n",
        "def preferencia_random(lista_n_personas):\n",
        "  return list(np.random.permutation(lista_n_personas))"
      ],
      "execution_count": 21,
      "outputs": []
    },
    {
      "cell_type": "code",
      "metadata": {
        "id": "qczYrK6MJZ4a"
      },
      "source": [
        "def caso_a_simular(n):\n",
        "  numeros_1_n = obtenerLista1n(n)\n",
        "\n",
        "  Matriz_preferencias_mujeres = []\n",
        "  Matriz_preferencias_hombres = []\n",
        "\n",
        "  for i in range(n):\n",
        "    Matriz_preferencias_mujeres.append(preferencia_random(numeros_1_n))\n",
        "\n",
        "  for i in range(n):\n",
        "    Matriz_preferencias_hombres.append(preferencia_random(numeros_1_n))\n",
        "  \n",
        "  return Matriz_preferencias_mujeres, Matriz_preferencias_hombres"
      ],
      "execution_count": 22,
      "outputs": []
    },
    {
      "cell_type": "code",
      "metadata": {
        "id": "zd62uyzyK18q"
      },
      "source": [
        "def dias_peor_caso_teorico(n):\n",
        "  return n**2 - 2*n +2"
      ],
      "execution_count": 23,
      "outputs": []
    },
    {
      "cell_type": "code",
      "metadata": {
        "id": "7-2B90maJy5i"
      },
      "source": [
        "def simular_n_matchings(numSimulaciones,n):\n",
        "  teorico = dias_peor_caso_teorico(n)\n",
        "  ocurrencia = [0]*(teorico + 1)\n",
        "  \n",
        "  acumulador = 0\n",
        "  minimo = teorico +10_000\n",
        "  maximo = 0\n",
        "\n",
        "  for i in range(numSimulaciones):\n",
        "\n",
        "    MP_Msim, MP_Hsim = caso_a_simular(n)\n",
        "\n",
        "    cuenta = GaleShapley(n, MP_Msim, MP_Hsim)\n",
        "\n",
        "    ocurrencia[cuenta] +=1\n",
        "    acumulador = acumulador + cuenta\n",
        "    minimo = min(cuenta, minimo)\n",
        "    maximo = max(cuenta,maximo)\n",
        "\n",
        "  promedio = acumulador/numSimulaciones\n",
        "\n",
        "  plt.bar(range(0,teorico+1),  ocurrencia)\n",
        "  plt.title('Distribucion iteraciones\\n')\n",
        "  plt.xlabel('Dias o iteraciones')\n",
        "  plt.ylabel('Frecuencia')\n",
        "  plt.show()\n",
        "  print(\"n = \",n)\n",
        "  print(\"\\n\\nRESULTADOS EXPERIMENTO\")\n",
        "  print(\"   Minimo   =  \", minimo)\n",
        "  print(\"   Maximo   =  \", maximo)\n",
        "  print(\"   Promedio =  \", promedio)"
      ],
      "execution_count": 24,
      "outputs": []
    },
    {
      "cell_type": "code",
      "metadata": {
        "colab": {
          "base_uri": "https://localhost:8080/",
          "height": 428
        },
        "id": "vQfihKeoJ7Ae",
        "outputId": "181cd099-79fe-40a8-b4a8-c9718e00bf04"
      },
      "source": [
        "simular_n_matchings(100,4)"
      ],
      "execution_count": 25,
      "outputs": [
        {
          "output_type": "display_data",
          "data": {
            "image/png": "[encoded data removed]",
            "text/plain": [
              "<Figure size 432x288 with 1 Axes>"
            ]
          },
          "metadata": {
            "tags": [],
            "needs_background": "light"
          }
        },
        {
          "output_type": "stream",
          "text": [
            "n =  4\n",
            "\n",
            "\n",
            "RESULTADOS EXPERIMENTO\n",
            "   Minimo   =   1\n",
            "   Maximo   =   7\n",
            "   Promedio =   3.09\n"
          ],
          "name": "stdout"
        }
      ]
    },
    {
      "cell_type": "code",
      "metadata": {
        "colab": {
          "base_uri": "https://localhost:8080/",
          "height": 428
        },
        "id": "ZipYkA6tJ-Jv",
        "outputId": "0cbe6158-3311-4adf-bcdf-f943b940fe22"
      },
      "source": [
        "simular_n_matchings(100,40)"
      ],
      "execution_count": 26,
      "outputs": [
        {
          "output_type": "display_data",
          "data": {
            "image/png": "[encoded data removed]",
            "text/plain": [
              "<Figure size 432x288 with 1 Axes>"
            ]
          },
          "metadata": {
            "tags": [],
            "needs_background": "light"
          }
        },
        {
          "output_type": "stream",
          "text": [
            "n =  40\n",
            "\n",
            "\n",
            "RESULTADOS EXPERIMENTO\n",
            "   Minimo   =   16\n",
            "   Maximo   =   229\n",
            "   Promedio =   57.29\n"
          ],
          "name": "stdout"
        }
      ]
    }
  ]
}