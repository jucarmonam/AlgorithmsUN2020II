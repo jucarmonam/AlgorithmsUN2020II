{
  "nbformat": 4,
  "nbformat_minor": 0,
  "metadata": {
    "colab": {
      "name": "Lab10.ipynb",
      "provenance": [],
      "collapsed_sections": []
    },
    "kernelspec": {
      "name": "python3",
      "display_name": "Python 3"
    }
  },
  "cells": [
    {
      "cell_type": "markdown",
      "metadata": {
        "id": "JAmjl2Yn-Ghe"
      },
      "source": [
        "## Punto 2"
      ]
    },
    {
      "cell_type": "code",
      "metadata": {
        "id": "Dt2Rqw0I1sf9"
      },
      "source": [
        "from itertools import permutations  \r\n",
        "import matplotlib.pyplot as plt\r\n",
        "import numpy as np\r\n",
        "from matplotlib import colors\r\n",
        "from matplotlib.ticker import PercentFormatter\r\n",
        "import math \r\n",
        "import timeit"
      ],
      "execution_count": 1,
      "outputs": []
    },
    {
      "cell_type": "code",
      "metadata": {
        "id": "s3W1ibLA7iCQ"
      },
      "source": [
        "def fibonacci_rec(n):\r\n",
        "  if(n == 0 or n == 1):\r\n",
        "    return n\r\n",
        "\r\n",
        "  return fibonacci_rec(n-1)+fibonacci_rec(n-2)\r\n"
      ],
      "execution_count": 2,
      "outputs": []
    },
    {
      "cell_type": "code",
      "metadata": {
        "id": "R9Yf4GmQ-9Wt"
      },
      "source": [
        "def fibonacci_rec_time(n):\r\n",
        "  array = [0 for i in range(n)]\r\n",
        "  line = [i for i in range(n)]\r\n",
        "  for i in range(len(array)):\r\n",
        "    start = timeit.default_timer()\r\n",
        "    fibonacci_rec(i)\r\n",
        "    end = timeit.default_timer()\r\n",
        "    array[i] = end - start\r\n",
        "\r\n",
        "  plt.plot(array)\r\n",
        "  plt.plot(line)\r\n",
        "  plt.show()"
      ],
      "execution_count": 3,
      "outputs": []
    },
    {
      "cell_type": "code",
      "metadata": {
        "colab": {
          "base_uri": "https://localhost:8080/",
          "height": 265
        },
        "id": "jTFYqZ2qBTOV",
        "outputId": "e7c2c7cf-b746-4e6d-dd58-afcd5ccf70fd"
      },
      "source": [
        "fibonacci_rec_time(45)"
      ],
      "execution_count": 4,
      "outputs": [
        {
          "output_type": "display_data",
          "data": {
            "image/png": "[encoded data removed]",
            "text/plain": [
              "<Figure size 432x288 with 1 Axes>"
            ]
          },
          "metadata": {
            "tags": [],
            "needs_background": "light"
          }
        }
      ]
    },
    {
      "cell_type": "code",
      "metadata": {
        "id": "0MfLwQqCDQNu"
      },
      "source": [
        "def fibonacci_it(n):\r\n",
        "  if(n == 0):\r\n",
        "    return 0\r\n",
        "\r\n",
        "  a = [0 for i in range(n+1)]\r\n",
        "  a[1] = 1\r\n",
        "  for i in range(2, n+1):\r\n",
        "    a[i] = a[i-1]+ a[i-2]\r\n",
        "\r\n",
        "  return a[n]"
      ],
      "execution_count": 5,
      "outputs": []
    },
    {
      "cell_type": "code",
      "metadata": {
        "id": "kU9XB1fPJgeF"
      },
      "source": [
        "def fibonacci_it_time(n):\r\n",
        "  array = [0 for i in range(n)]\r\n",
        "  line = [i*0.000001 for i in range(n)]\r\n",
        "  for i in range(len(array)):\r\n",
        "    start = timeit.default_timer()\r\n",
        "    fibonacci_it(i)\r\n",
        "    end = timeit.default_timer()\r\n",
        "    array[i] = end - start\r\n",
        "\r\n",
        "  plt.plot(array, 'green')\r\n",
        "  plt.plot(line, 'blue')\r\n",
        "  plt.show()"
      ],
      "execution_count": 6,
      "outputs": []
    },
    {
      "cell_type": "code",
      "metadata": {
        "colab": {
          "base_uri": "https://localhost:8080/",
          "height": 265
        },
        "id": "PzxqL3ROJh61",
        "outputId": "86408488-9368-474e-f712-bfa433d508b2"
      },
      "source": [
        "fibonacci_it_time(500)"
      ],
      "execution_count": 7,
      "outputs": [
        {
          "output_type": "display_data",
          "data": {
            "image/png": "[encoded data removed]",
            "text/plain": [
              "<Figure size 432x288 with 1 Axes>"
            ]
          },
          "metadata": {
            "tags": [],
            "needs_background": "light"
          }
        }
      ]
    }
  ]
}