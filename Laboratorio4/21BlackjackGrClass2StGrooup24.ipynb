{
  "nbformat": 4,
  "nbformat_minor": 0,
  "metadata": {
    "colab": {
      "name": "Laboratorio4.ipynb",
      "provenance": [],
      "collapsed_sections": []
    },
    "kernelspec": {
      "name": "python3",
      "display_name": "Python 3"
    }
  },
  "cells": [
    {
      "cell_type": "code",
      "metadata": {
        "id": "G0JkkbLwyP4U",
        "outputId": "66297aa5-ba69-4e23-8d42-212aa001453e",
        "colab": {
          "base_uri": "https://localhost:8080/",
          "height": 51
        }
      },
      "source": [
        "#Punto 1. Baraja española\n",
        "import random\n",
        "n = 10000000\n",
        "count21 = 0\n",
        "prnc = 0\n",
        "for i in range(n):\n",
        "  cartas = [1,2,3,4,5,6,7,8,9,10,11,12,1,2,3,4,5,6,7,8,9,10,11,12,1,2,3,4,5,6,7,8,9,10,11,12,1,2,3,4,5,6,7,8,9,10,11,12]\n",
        "  my_cards = []\n",
        "  nc = 0\n",
        "  while(sum(my_cards)<21):\n",
        "    card = random.randint(0,len(cartas)-1)\n",
        "    my_cards.append(cartas[card])\n",
        "    cartas.pop(card)\n",
        "    nc = nc+1\n",
        "  if(sum(my_cards) == 21):\n",
        "    count21 = count21 + 1\n",
        "    prnc = prnc + nc\n",
        "\n",
        "print(\"Probabilidad de sacar 21 en una baraja española: \" , count21/n)\n",
        "print(\"Promedio de cartas necesarias: \", prnc / count21)"
      ],
      "execution_count": null,
      "outputs": [
        {
          "output_type": "stream",
          "text": [
            "Probabilidad de sacar 21 en una baraja española:  0.1577679\n",
            "Promedio de cartas necesarias:  3.415671375482592\n"
          ],
          "name": "stdout"
        }
      ]
    },
    {
      "cell_type": "code",
      "metadata": {
        "id": "JoZ8gg4cy051",
        "outputId": "18cb4310-c468-4d4e-c973-95b43a289115",
        "colab": {
          "base_uri": "https://localhost:8080/",
          "height": 51
        }
      },
      "source": [
        "#Punto 1. Baraja de naipes\n",
        "import random\n",
        "n = 10000000\n",
        "count21 = 0\n",
        "prnc = 0\n",
        "for i in range(n):\n",
        "  cartas = [1,2,3,4,5,6,7,8,9,10,11,12,13,1,2,3,4,5,6,7,8,9,10,11,12,13,1,2,3,4,5,6,7,8,9,10,11,12,13,1,2,3,4,5,6,7,8,9,10,11,12,13]\n",
        "  my_cards = []\n",
        "  nc = 0\n",
        "  while(sum(my_cards)<21):\n",
        "    card = random.randint(0,len(cartas)-1)\n",
        "    my_cards.append(cartas[card])\n",
        "    cartas.pop(card)\n",
        "    nc = nc+1\n",
        "  if(sum(my_cards) == 21):\n",
        "    count21 = count21 + 1\n",
        "    prnc = prnc + nc\n",
        "\n",
        "print(\"Probabilidad de sacar 21 en una baraja de naipes: \", count21/n)\n",
        "print(\"Promedio de cartas necesarias: \", prnc / count21)"
      ],
      "execution_count": null,
      "outputs": [
        {
          "output_type": "stream",
          "text": [
            "Probabilidad de sacar 21 en una baraja de naipes:  0.1449169\n",
            "Promedio de cartas necesarias:  3.217659914061093\n"
          ],
          "name": "stdout"
        }
      ]
    },
    {
      "cell_type": "code",
      "metadata": {
        "id": "FbhtsDWT3iDz",
        "outputId": "250d12af-46a7-457b-86f7-9f599487d30f",
        "colab": {
          "base_uri": "https://localhost:8080/",
          "height": 315
        }
      },
      "source": [
        "#Punto 2. Baraja española\n",
        "import random\n",
        "import matplotlib.pyplot as plt\n",
        "\n",
        "n = 10000000\n",
        "count21 = 0\n",
        "prnc = 0\n",
        "num_cards = []\n",
        "for i in range(n):\n",
        "  cartas = [1,2,3,4,5,6,7,8,9,10,10,10,1,2,3,4,5,6,7,8,9,10,10,10,1,2,3,4,5,6,7,8,9,10,10,10,1,2,3,4,5,6,7,8,9,10,10,10] \n",
        "  my_cards = []\n",
        "  nc = 0\n",
        "  while(sum(my_cards)<21):\n",
        "    card = random.randint(0,len(cartas)-1)\n",
        "    my_cards.append(cartas[card])\n",
        "    cartas.pop(card)\n",
        "    nc = nc+1\n",
        "  if(sum(my_cards) == 21):\n",
        "    count21 = count21 + 1\n",
        "    prnc = prnc + nc\n",
        "    num_cards.append(nc)\n",
        "\n",
        "plt.title(\"Cartas necesarias\")\n",
        "plt.hist(num_cards, density = True, bins=max(num_cards)-min(num_cards))\n",
        "#plt.xticks(range(0,max(num_cards),1))\n",
        "plt.show()\n",
        "\n",
        "print(\"Probabilidad de sacar 21 en una baraja española de 10s: \" , count21/n)\n",
        "print(\"Promedio de cartas necesarias: \", prnc / count21)"
      ],
      "execution_count": null,
      "outputs": [
        {
          "output_type": "display_data",
          "data": {
            "image/png": "[encoded data removed]",
            "text/plain": [
              "<Figure size 432x288 with 1 Axes>"
            ]
          },
          "metadata": {
            "tags": [],
            "needs_background": "light"
          }
        },
        {
          "output_type": "stream",
          "text": [
            "Probabilidad de sacar 21 en una baraja española de 10s:  0.1495961\n",
            "Promedio de cartas necesarias:  3.699162611859534\n"
          ],
          "name": "stdout"
        }
      ]
    },
    {
      "cell_type": "code",
      "metadata": {
        "id": "k0QGxyP14n5Y",
        "outputId": "bed2a52e-f76e-46f9-cbd8-d4f22e19e1c1",
        "colab": {
          "base_uri": "https://localhost:8080/",
          "height": 315
        }
      },
      "source": [
        "#Punto 2. Baraja de naipes\n",
        "import random\n",
        "import matplotlib.pyplot as plt\n",
        "\n",
        "n = 10000000\n",
        "count21 = 0\n",
        "prnc = 0\n",
        "num_cards = []\n",
        "for i in range(n):\n",
        "  cartas = [1,2,3,4,5,6,7,8,9,10,10,10,10,1,2,3,4,5,6,7,8,9,10,10,10,10,1,2,3,4,5,6,7,8,9,10,10,10,10,1,2,3,4,5,6,7,8,9,10,10,10,10]\n",
        "  my_cards = []\n",
        "  nc = 0\n",
        "  while(sum(my_cards)<21):\n",
        "    card = random.randint(0,len(cartas)-1)\n",
        "    my_cards.append(cartas[card])\n",
        "    cartas.pop(card)\n",
        "    nc = nc+1\n",
        "  if(sum(my_cards) == 21):\n",
        "    count21 = count21 + 1\n",
        "    prnc = prnc + nc\n",
        "    num_cards.append(nc)\n",
        "\n",
        "plt.title(\"Cartas necesarias\")\n",
        "plt.hist(num_cards, density = True, bins=max(num_cards)-min(num_cards))\n",
        "plt.xticks(range(3,max(num_cards),1))\n",
        "plt.show()\n",
        "\n",
        "print(\"Probabilidad de sacar 21 en una baraja española de 10s: \" , count21/n)\n",
        "print(\"Promedio de cartas necesarias: \", prnc / count21)"
      ],
      "execution_count": null,
      "outputs": [
        {
          "output_type": "display_data",
          "data": {
            "image/png": "[encoded data removed]",
            "text/plain": [
              "<Figure size 432x288 with 1 Axes>"
            ]
          },
          "metadata": {
            "tags": [],
            "needs_background": "light"
          }
        },
        {
          "output_type": "stream",
          "text": [
            "Probabilidad de sacar 21 en una baraja española de 10s:  0.1403051\n",
            "Promedio de cartas necesarias:  3.5770930636163616\n"
          ],
          "name": "stdout"
        }
      ]
    },
    {
      "cell_type": "code",
      "metadata": {
        "id": "8i-Fl99r7tUC",
        "outputId": "a22e4ee9-6684-4c4c-b773-c3afeaeb1aa4",
        "colab": {
          "base_uri": "https://localhost:8080/",
          "height": 281
        }
      },
      "source": [
        "#Punto 3. Baraja española\n",
        "import random\n",
        "import matplotlib.pyplot as plt\n",
        "\n",
        "n = 10000000\n",
        "count21 = 0\n",
        "prnc = 0\n",
        "num_cards = []\n",
        "for i in range(n):\n",
        "  cartas = [1,2,3,4,6,10,10,10,1,2,3,4,5,6,8,9,10,10,10,1,2,3,4,5,6,7,8,9,10,10,10,1,2,3,4,5,6,7,8,9,10,10,10]\n",
        "  while(len(cartas)>24):\n",
        "      cartas.remove(random.choice(cartas))\n",
        "\n",
        "  my_cards = [7, 7, 5]\n",
        "  nc = 3\n",
        "\n",
        "  while(sum(my_cards)<21):\n",
        "    card = random.randint(0,len(cartas)-1)\n",
        "    my_cards.append(cartas[card])\n",
        "    cartas.pop(card)\n",
        "    nc = nc+1\n",
        "  if(sum(my_cards) == 21):\n",
        "    count21 = count21 + 1\n",
        "    prnc = prnc + nc\n",
        "    num_cards.append(nc)\n",
        "\n",
        "plt.title(\"Cartas necesarias\")\n",
        "plt.hist(num_cards, density = True, bins=[4,5,6])\n",
        "plt.xticks(range(4,max(num_cards)+2,1))\n",
        "plt.show()"
      ],
      "execution_count": null,
      "outputs": [
        {
          "output_type": "display_data",
          "data": {
            "image/png": "[encoded data removed]",
            "text/plain": [
              "<Figure size 432x288 with 1 Axes>"
            ]
          },
          "metadata": {
            "tags": [],
            "needs_background": "light"
          }
        }
      ]
    },
    {
      "cell_type": "code",
      "metadata": {
        "id": "wu5stbdB9Vp1",
        "outputId": "56af9e6e-20a0-4783-f24c-7e752139f5a6",
        "colab": {
          "base_uri": "https://localhost:8080/",
          "height": 281
        }
      },
      "source": [
        "#Punto 3. Baraja de naipes\n",
        "import random\n",
        "import matplotlib.pyplot as plt\n",
        "\n",
        "n = 10000000\n",
        "count21 = 0\n",
        "prnc = 0\n",
        "num_cards = []\n",
        "for i in range(n):\n",
        "  cartas = [1,2,3,4,5,6,10,10,10,10,1,2,3,4,5,6,8,9,10,10,10,10,1,2,3,4,6,7,8,9,10,10,10,10,1,2,3,4,5,6,7,8,9,10,10,10,10]\n",
        "  while(len(cartas)>26):\n",
        "      cartas.remove(random.choice(cartas))\n",
        "\n",
        "  my_cards = [7, 7, 5]\n",
        "  nc = 3\n",
        "\n",
        "  while(sum(my_cards)<21):\n",
        "    card = random.randint(0,len(cartas)-1)\n",
        "    my_cards.append(cartas[card])\n",
        "    cartas.pop(card)\n",
        "    nc = nc+1\n",
        "  if(sum(my_cards) == 21):\n",
        "    count21 = count21 + 1\n",
        "    prnc = prnc + nc\n",
        "    num_cards.append(nc)\n",
        "\n",
        "#plt.title(\"Cartas necesarias\")\n",
        "#plt.hist(num_cards, density = True, bins=max(num_cards)-min(num_cards))\n",
        "#plt.xticks(range(0,max(num_cards)+2,1))\n",
        "#plt.show()\n",
        "plt.title(\"Cartas necesarias\")\n",
        "plt.hist(num_cards, density = True, bins=[4,5,6])\n",
        "plt.xticks(range(4,max(num_cards)+2,1))\n",
        "plt.show()"
      ],
      "execution_count": null,
      "outputs": [
        {
          "output_type": "display_data",
          "data": {
            "image/png": "[encoded data removed]",
            "text/plain": [
              "<Figure size 432x288 with 1 Axes>"
            ]
          },
          "metadata": {
            "tags": [],
            "needs_background": "light"
          }
        }
      ]
    },
    {
      "cell_type": "markdown",
      "metadata": {
        "id": "w95M82yBrXov"
      },
      "source": [
        "un hot deck tiene 4 unos y 4 doces y dos cartas mayores a 1 y a 2\n",
        "entonces tendriamos 4/10 de probabilidad de sacar un 2 para completar 21\n",
        "o 4/10 * 3/9 para sacar dos unos seguidos.\n",
        "lo que en total nos da una probabilidad total de 4/10+ (4/10*3/9) que es igual a = 0.53333333"
      ]
    },
    {
      "cell_type": "code",
      "metadata": {
        "id": "vASqBTuFsTUm",
        "outputId": "b72be3bb-2cd9-4a6d-bf9f-e7ce38971f82",
        "colab": {
          "base_uri": "https://localhost:8080/",
          "height": 34
        }
      },
      "source": [
        "4/10+(4/10*3/9)"
      ],
      "execution_count": null,
      "outputs": [
        {
          "output_type": "execute_result",
          "data": {
            "text/plain": [
              "0.5333333333333334"
            ]
          },
          "metadata": {
            "tags": []
          },
          "execution_count": 1
        }
      ]
    },
    {
      "cell_type": "code",
      "metadata": {
        "id": "2F393H6p-26E",
        "outputId": "090ad161-580d-4fc1-db69-27a408a04d02",
        "colab": {
          "base_uri": "https://localhost:8080/",
          "height": 298
        }
      },
      "source": [
        "#Punto 4. Baraja española (hot deck)\n",
        "import random\n",
        "import matplotlib.pyplot as plt\n",
        "\n",
        "n = 10000000\n",
        "count21 = 0\n",
        "prnc = 0\n",
        "num_cards = []\n",
        "for i in range(n):\n",
        "  cartas = [1,1,1,1,2,2,2,2,10,10]\n",
        "  my_cards = [7, 7, 5]\n",
        "  nc = 3\n",
        "\n",
        "  while(sum(my_cards)<21):\n",
        "    card = random.randint(0,len(cartas)-1)\n",
        "    my_cards.append(cartas[card])\n",
        "    cartas.pop(card)\n",
        "    nc = nc + 1\n",
        "  if(sum(my_cards) == 21):\n",
        "    count21 = count21 + 1\n",
        "    prnc = prnc + nc\n",
        "    num_cards.append(nc)\n",
        "\n",
        "print(\"probabilidad con hot deck\", count21/n)\n",
        "plt.title(\"Cartas necesarias\")\n",
        "plt.hist(num_cards, density = True, bins=[4,5,6])\n",
        "plt.xticks(range(4,max(num_cards)+2,1))\n",
        "plt.show()"
      ],
      "execution_count": null,
      "outputs": [
        {
          "output_type": "stream",
          "text": [
            "probabilidad con hot deck 0.5334987\n"
          ],
          "name": "stdout"
        },
        {
          "output_type": "display_data",
          "data": {
            "image/png": "[encoded data removed]",
            "text/plain": [
              "<Figure size 432x288 with 1 Axes>"
            ]
          },
          "metadata": {
            "tags": [],
            "needs_background": "light"
          }
        }
      ]
    },
    {
      "cell_type": "code",
      "metadata": {
        "id": "TUyp6BDytBJ9",
        "outputId": "2311b55a-5f69-4cc5-d5ce-f21d917d5cda",
        "colab": {
          "base_uri": "https://localhost:8080/",
          "height": 332
        }
      },
      "source": [
        "#Punto 4. Baraja española (cold deck)\n",
        "import random\n",
        "import matplotlib.pyplot as plt\n",
        "\n",
        "n = 10000000\n",
        "count21 = 0\n",
        "prnc = 0\n",
        "num_cards = []\n",
        "for i in range(n):\n",
        "  cartas = [10,10,9,3,9,8,5,4,7,8]\n",
        "  my_cards = [7, 7, 5]\n",
        "  nc = 0\n",
        "\n",
        "  while(sum(my_cards)<21):\n",
        "    card = random.randint(0,len(cartas)-1)\n",
        "    my_cards.append(cartas[card])\n",
        "    cartas.pop(card)\n",
        "    nc = nc + 1\n",
        "  if(sum(my_cards) == 21):\n",
        "    count21 = count21 + 1\n",
        "    prnc = prnc + nc\n",
        "    num_cards.append(nc)\n",
        "\n",
        "print(\"probabilidad con cold deck\", count21/n)\n",
        "plt.title(\"Cartas necesarias\")\n",
        "plt.hist(num_cards, density = True, bins=[1,2,3])\n",
        "#plt.xticks(range(0,max(num_cards)+2,1))\n",
        "plt.show()"
      ],
      "execution_count": null,
      "outputs": [
        {
          "output_type": "stream",
          "text": [
            "probabilidad con cold deck 0.0\n"
          ],
          "name": "stdout"
        },
        {
          "output_type": "stream",
          "text": [
            "/usr/local/lib/python3.6/dist-packages/numpy/lib/histograms.py:908: RuntimeWarning: invalid value encountered in true_divide\n",
            "  return n/db/n.sum(), bin_edges\n"
          ],
          "name": "stderr"
        },
        {
          "output_type": "display_data",
          "data": {
            "image/png": "[encoded data removed]",
            "text/plain": [
              "<Figure size 432x288 with 1 Axes>"
            ]
          },
          "metadata": {
            "tags": [],
            "needs_background": "light"
          }
        }
      ]
    },
    {
      "cell_type": "code",
      "metadata": {
        "id": "Mm7YVV7Tt0wX",
        "outputId": "23320882-3c06-42ed-e763-3cdedefb57f1",
        "colab": {
          "base_uri": "https://localhost:8080/",
          "height": 298
        }
      },
      "source": [
        "#Punto 4. Baraja naipes (hot deck)\n",
        "import random\n",
        "import matplotlib.pyplot as plt\n",
        "\n",
        "n = 10000000\n",
        "count21 = 0\n",
        "prnc = 0\n",
        "num_cards = []\n",
        "for i in range(n):\n",
        "  cartas = [1,1,1,1,2,2,2,2,10,10]\n",
        "  my_cards = [7, 7, 5]\n",
        "  nc = 0\n",
        "\n",
        "  while(sum(my_cards)<21):\n",
        "    card = random.randint(0,len(cartas)-1)\n",
        "    my_cards.append(cartas[card])\n",
        "    cartas.pop(card)\n",
        "    nc = nc + 1\n",
        "  if(sum(my_cards) == 21):\n",
        "    count21 = count21 + 1\n",
        "    prnc = prnc + nc\n",
        "    num_cards.append(nc)\n",
        "\n",
        "print(\"probabilidad con hot deck\", count21/n)\n",
        "plt.title(\"Cartas necesarias\")\n",
        "plt.hist(num_cards, density = True, bins=[1,2,3])\n",
        "plt.xticks(range(1,max(num_cards)+2,1))\n",
        "plt.show()"
      ],
      "execution_count": null,
      "outputs": [
        {
          "output_type": "stream",
          "text": [
            "probabilidad con hot deck 0.5333315\n"
          ],
          "name": "stdout"
        },
        {
          "output_type": "display_data",
          "data": {
            "image/png": "[encoded data removed]",
            "text/plain": [
              "<Figure size 432x288 with 1 Axes>"
            ]
          },
          "metadata": {
            "tags": [],
            "needs_background": "light"
          }
        }
      ]
    },
    {
      "cell_type": "code",
      "metadata": {
        "id": "_-3pHv7It3zh",
        "outputId": "67531b8e-29bb-472a-9fec-25c4307aba87",
        "colab": {
          "base_uri": "https://localhost:8080/",
          "height": 332
        }
      },
      "source": [
        "#Punto 4. Baraja naipes (cold deck)\n",
        "import random\n",
        "import matplotlib.pyplot as plt\n",
        "\n",
        "n = 10000000\n",
        "count21 = 0\n",
        "prnc = 0\n",
        "num_cards = []\n",
        "for i in range(n):\n",
        "  cartas = [10,10,9,3,9,8,5,4,7,8]\n",
        "  my_cards = [7, 7, 5]\n",
        "  nc = 0\n",
        "\n",
        "  while(sum(my_cards)<21):\n",
        "    card = random.randint(0,len(cartas)-1)\n",
        "    my_cards.append(cartas[card])\n",
        "    cartas.pop(card)\n",
        "    nc = nc + 1\n",
        "  if(sum(my_cards) == 21):\n",
        "    count21 = count21 + 1\n",
        "    prnc = prnc + nc\n",
        "    num_cards.append(nc)\n",
        "\n",
        "print(\"probabilidad con cold deck\", count21/n)\n",
        "plt.title(\"Cartas necesarias\")\n",
        "plt.hist(num_cards, density = True, bins=[1,2,3])\n",
        "#plt.xticks(range(0,max(num_cards)+2,1))\n",
        "plt.show()"
      ],
      "execution_count": null,
      "outputs": [
        {
          "output_type": "stream",
          "text": [
            "probabilidad con cold deck 0.0\n"
          ],
          "name": "stdout"
        },
        {
          "output_type": "stream",
          "text": [
            "/usr/local/lib/python3.6/dist-packages/numpy/lib/histograms.py:908: RuntimeWarning: invalid value encountered in true_divide\n",
            "  return n/db/n.sum(), bin_edges\n"
          ],
          "name": "stderr"
        },
        {
          "output_type": "display_data",
          "data": {
            "image/png": "[encoded data removed]",
            "text/plain": [
              "<Figure size 432x288 with 1 Axes>"
            ]
          },
          "metadata": {
            "tags": [],
            "needs_background": "light"
          }
        }
      ]
    },
    {
      "cell_type": "markdown",
      "metadata": {
        "id": "PtoLN-ndQNwB"
      },
      "source": [
        "En el punto 5 la ganancia esperada con una baraja española se puede calcular analiticamente basandonos en la probabilidad que nos dio anteriormente con el hot deck y con el deck normal de la siguiente manera:\n",
        "\n",
        "apuesta 1000 en los hot decks y suponiendo que gana tenemos (1000 * 0.5333333333333334)\n",
        "\n",
        "y cuando apuesta 1000 en los hot decks y pierde tenemos (-1000 * (1 - 0.5333333333333334))"
      ]
    },
    {
      "cell_type": "code",
      "metadata": {
        "id": "LiqKlXcORKvn",
        "outputId": "8605904f-2c48-403d-a858-712ad01b4932",
        "colab": {
          "base_uri": "https://localhost:8080/",
          "height": 34
        }
      },
      "source": [
        "(1000 * 0.5333333333333334) + (-1000 * (1 - 0.5333333333333334))"
      ],
      "execution_count": null,
      "outputs": [
        {
          "output_type": "execute_result",
          "data": {
            "text/plain": [
              "66.66666666666691"
            ]
          },
          "metadata": {
            "tags": []
          },
          "execution_count": 27
        }
      ]
    },
    {
      "cell_type": "markdown",
      "metadata": {
        "id": "FAC4gBKeRVdC"
      },
      "source": [
        "Por otr lado en los deck normales tenemos\n",
        "\n",
        "apuesta 10 en un deck normal y gana entonces tenemos (10 * 0.1577)\n",
        "\n",
        "apuesta 10 en un deck normal y pierde entonces tenemos (-10 * (1 - 0.1577))"
      ]
    },
    {
      "cell_type": "code",
      "metadata": {
        "id": "ohE7ktljRuCg",
        "outputId": "ae514a07-019c-45c5-cea0-b4f74f4f718a",
        "colab": {
          "base_uri": "https://localhost:8080/",
          "height": 34
        }
      },
      "source": [
        "(10 * 0.1496) + (-10 * (1 - 0.1496))"
      ],
      "execution_count": null,
      "outputs": [
        {
          "output_type": "execute_result",
          "data": {
            "text/plain": [
              "-7.008000000000001"
            ]
          },
          "metadata": {
            "tags": []
          },
          "execution_count": 6
        }
      ]
    },
    {
      "cell_type": "markdown",
      "metadata": {
        "id": "4NUUJGCjR6s-"
      },
      "source": [
        "Ahora bien como tenemos una probabilidad de 1/10(0.1) de obtener un hot deck y de 9/10 de obtener un deck normal(0.9) entonces podemos estimar la ganancia total como:"
      ]
    },
    {
      "cell_type": "code",
      "metadata": {
        "id": "gbORVrkNSF6o",
        "outputId": "1b35fc26-fa58-43c0-a638-2ab008687d33",
        "colab": {
          "base_uri": "https://localhost:8080/",
          "height": 34
        }
      },
      "source": [
        "(66.66666666666691 * 0.1)+(-7.008*(1 - 0.1))"
      ],
      "execution_count": null,
      "outputs": [
        {
          "output_type": "execute_result",
          "data": {
            "text/plain": [
              "0.3594666666666919"
            ]
          },
          "metadata": {
            "tags": []
          },
          "execution_count": 7
        }
      ]
    },
    {
      "cell_type": "markdown",
      "metadata": {
        "id": "JFkWnLF_SYAS"
      },
      "source": [
        "Y al mirar los 600 juegos obtenemos:"
      ]
    },
    {
      "cell_type": "code",
      "metadata": {
        "id": "SvvVyRBZSbWj",
        "outputId": "546b8672-45ad-4b05-ffdc-fca6de65253c",
        "colab": {
          "base_uri": "https://localhost:8080/",
          "height": 34
        }
      },
      "source": [
        "0.3594666666666919 * 600"
      ],
      "execution_count": null,
      "outputs": [
        {
          "output_type": "execute_result",
          "data": {
            "text/plain": [
              "215.68000000001516"
            ]
          },
          "metadata": {
            "tags": []
          },
          "execution_count": 8
        }
      ]
    },
    {
      "cell_type": "code",
      "metadata": {
        "id": "VBZ9dt1OuA90",
        "outputId": "ec94d64e-3d14-417f-94e0-c34c588b4372",
        "colab": {
          "base_uri": "https://localhost:8080/",
          "height": 34
        }
      },
      "source": [
        "#Punto 5. Baraja española\n",
        "import numpy as np\n",
        "import random\n",
        "import matplotlib.pyplot as plt\n",
        "\n",
        "hours = 10\n",
        "game = 3\n",
        "minutos = hours * 60\n",
        "n = minutos\n",
        "count21 = 0\n",
        "prnc = 0\n",
        "num_cards = []\n",
        "prompdinero = []\n",
        "count = 0\n",
        "for i in range(10000):\n",
        "  #dinero = []\n",
        "  dinero = 0\n",
        "  for j in range(minutos):\n",
        "    hot = random.randint(0,9)\n",
        "    #print(hot)\n",
        "    if hot == 0:\n",
        "      count = count + 1\n",
        "      cartas = [1,1,1,1,2,2,2,2,10,10]\n",
        "      my_cards = [7, 7, 5]\n",
        "      nc = 3\n",
        "      while(sum(my_cards)<21):\n",
        "        card = random.randint(0,len(cartas)-1)\n",
        "        my_cards.append(cartas[card])\n",
        "        cartas.pop(card)\n",
        "        nc = nc + 1\n",
        "      if(sum(my_cards) == 21):\n",
        "        dinero = dinero + 1000\n",
        "      else:\n",
        "        dinero = dinero - 1000\n",
        "    else:\n",
        "      cartas = [1,2,3,4,5,6,7,8,9,10,10,10,1,2,3,4,5,6,7,8,9,10,10,10,1,2,3,4,5,6,7,8,9,10,10,10,1,2,3,4,5,6,7,8,9,10,10,10]\n",
        "      my_cards = []\n",
        "      nc = 0\n",
        "      while(sum(my_cards)<21):\n",
        "        card = random.randint(0,len(cartas)-1)\n",
        "        my_cards.append(cartas[card])\n",
        "        cartas.pop(card)\n",
        "        nc = nc+1\n",
        "      if(sum(my_cards) == 21):\n",
        "        dinero = dinero + 10\n",
        "      else:\n",
        "        dinero = dinero - 10\n",
        "\n",
        "  prompdinero.append(dinero)\n",
        "\n",
        "prompdinero = np.asarray(prompdinero)\n",
        "print(prompdinero.mean())"
      ],
      "execution_count": null,
      "outputs": [
        {
          "output_type": "stream",
          "text": [
            "216.364\n"
          ],
          "name": "stdout"
        }
      ]
    },
    {
      "cell_type": "markdown",
      "metadata": {
        "id": "SU6In7TOrIAe"
      },
      "source": [
        ""
      ]
    },
    {
      "cell_type": "markdown",
      "metadata": {
        "id": "a6aWbGw_rJtT"
      },
      "source": [
        "En el punto 5 la ganancia esperada con una baraja de naipes se puede calcular analiticamente basandonos en la probabilidad que nos dio anteriormente con el hot deck y con el deck normal de la siguiente manera:\n",
        "\n",
        "apuesta 1000 en los hot decks y suponiendo que gana tenemos (1000 * 0.5333333333333334)\n",
        "\n",
        "y cuando apuesta 1000 en los hot decks y pierde tenemos (-1000 * (1 - 0.5333333333333334))"
      ]
    },
    {
      "cell_type": "code",
      "metadata": {
        "id": "mZ98KF4QrJtX",
        "outputId": "8605904f-2c48-403d-a858-712ad01b4932",
        "colab": {
          "base_uri": "https://localhost:8080/",
          "height": 34
        }
      },
      "source": [
        "(1000 * 0.5333333333333334) + (-1000 * (1 - 0.5333333333333334))"
      ],
      "execution_count": null,
      "outputs": [
        {
          "output_type": "execute_result",
          "data": {
            "text/plain": [
              "66.66666666666691"
            ]
          },
          "metadata": {
            "tags": []
          },
          "execution_count": 27
        }
      ]
    },
    {
      "cell_type": "markdown",
      "metadata": {
        "id": "ooDiB9IgrJtq"
      },
      "source": [
        "Por otr lado en los deck normales tenemos\n",
        "\n",
        "Apuesta 10 en un deck normal y gana entonces tenemos (10 * 0.1400311)\n",
        "\n",
        "Apuesta 10 en un deck normal y pierde entonces tenemos (-10 * (1 - 0.1400311))"
      ]
    },
    {
      "cell_type": "code",
      "metadata": {
        "id": "mxFUzc0trJts",
        "outputId": "8c7d160e-cf34-4cb3-eb0c-3b4294b01560",
        "colab": {
          "base_uri": "https://localhost:8080/",
          "height": 34
        }
      },
      "source": [
        "(10 * 0.1403051) + (-10 * (1 - 0.1403051))"
      ],
      "execution_count": null,
      "outputs": [
        {
          "output_type": "execute_result",
          "data": {
            "text/plain": [
              "-7.193898000000001"
            ]
          },
          "metadata": {
            "tags": []
          },
          "execution_count": 48
        }
      ]
    },
    {
      "cell_type": "markdown",
      "metadata": {
        "id": "kGv1C_EZrJt2"
      },
      "source": [
        "Ahora bien como tenemos una probabilidad de 1/10(0.1) de obtener un hot deck y de 9/10 de obtener un deck normal(0.9) entonces podemos estimar la ganancia total como:"
      ]
    },
    {
      "cell_type": "code",
      "metadata": {
        "id": "plWhwYtYrJt3",
        "outputId": "3ea80b99-ef08-4f30-eb52-9632ae6fb26f",
        "colab": {
          "base_uri": "https://localhost:8080/",
          "height": 34
        }
      },
      "source": [
        "(66.66666666666691 * 0.1)+(-7.193898*(1 - 0.1))"
      ],
      "execution_count": null,
      "outputs": [
        {
          "output_type": "execute_result",
          "data": {
            "text/plain": [
              "0.192158466666692"
            ]
          },
          "metadata": {
            "tags": []
          },
          "execution_count": 54
        }
      ]
    },
    {
      "cell_type": "markdown",
      "metadata": {
        "id": "TyaXZm5hrJuA"
      },
      "source": [
        "Y al mirar los 600 juegos obtenemos:"
      ]
    },
    {
      "cell_type": "code",
      "metadata": {
        "id": "asN_GnbZrJuC",
        "outputId": "b3e1b940-cd79-4b0a-887f-2c244867b52b",
        "colab": {
          "base_uri": "https://localhost:8080/",
          "height": 34
        }
      },
      "source": [
        "0.192158466666692 * 600"
      ],
      "execution_count": null,
      "outputs": [
        {
          "output_type": "execute_result",
          "data": {
            "text/plain": [
              "115.2950800000152"
            ]
          },
          "metadata": {
            "tags": []
          },
          "execution_count": 55
        }
      ]
    },
    {
      "cell_type": "code",
      "metadata": {
        "id": "kQ6i5WdGx5w_",
        "outputId": "8ddbfdb9-47d2-4af6-b92d-7fb31fa58eb0",
        "colab": {
          "base_uri": "https://localhost:8080/",
          "height": 34
        }
      },
      "source": [
        "#Punto 5. Baraja naipes\n",
        "import numpy as np\n",
        "import random\n",
        "import matplotlib.pyplot as plt\n",
        "\n",
        "hours = 10\n",
        "game = 3\n",
        "minutos = hours * 60\n",
        "n = minutos\n",
        "count21 = 0\n",
        "prnc = 0\n",
        "num_cards = []\n",
        "prompdinero = []\n",
        "count = 0\n",
        "for i in range(100000):\n",
        "  dinero = 0\n",
        "  #dinero = []\n",
        "  for j in range(n):\n",
        "    hot = random.randint(0,9)\n",
        "    #print(hot)\n",
        "    if hot == 0:\n",
        "      count = count + 1\n",
        "      cartas = [1,1,1,1,2,2,2,2,10,10]\n",
        "      my_cards = [7, 7, 5]\n",
        "      nc = 3\n",
        "      while(sum(my_cards)<21):\n",
        "        card = random.randint(0,len(cartas)-1)\n",
        "        my_cards.append(cartas[card])\n",
        "        cartas.pop(card)\n",
        "        nc = nc + 1\n",
        "      if(sum(my_cards) == 21):\n",
        "        #dinero.append(2000)\n",
        "        dinero = dinero + 1000\n",
        "      else:\n",
        "        #dinero.append(-1000)\n",
        "        dinero = dinero - 1000\n",
        "    else:\n",
        "      cartas = [1,2,3,4,5,6,7,8,9,10,10,10,10,1,2,3,4,5,6,7,8,9,10,10,10,10,1,2,3,4,5,6,7,8,9,10,10,10,10,1,2,3,4,5,6,7,8,9,10,10,10,10]\n",
        "      my_cards = []\n",
        "      nc = 0\n",
        "      while(sum(my_cards)<21):\n",
        "        card = random.randint(0,len(cartas)-1)\n",
        "        my_cards.append(cartas[card])\n",
        "        cartas.pop(card)\n",
        "        nc = nc+1\n",
        "      if(sum(my_cards) == 21):\n",
        "        dinero = dinero + 10\n",
        "      else:\n",
        "        dinero = dinero - 10\n",
        "\n",
        "  prompdinero.append(dinero)\n",
        "\n",
        "prompdinero = np.asarray(prompdinero)\n",
        "print(prompdinero.mean())"
      ],
      "execution_count": null,
      "outputs": [
        {
          "output_type": "stream",
          "text": [
            "103.9926\n"
          ],
          "name": "stdout"
        }
      ]
    }
  ]
}