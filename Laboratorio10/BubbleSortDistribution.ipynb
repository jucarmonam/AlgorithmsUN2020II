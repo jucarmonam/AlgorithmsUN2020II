{
  "nbformat": 4,
  "nbformat_minor": 0,
  "metadata": {
    "colab": {
      "name": "bubbleSort.ipynb",
      "provenance": []
    },
    "kernelspec": {
      "name": "python3",
      "display_name": "Python 3"
    }
  },
  "cells": [
    {
      "cell_type": "code",
      "metadata": {
        "id": "aDd0kAx4LWrT"
      },
      "source": [
        "from itertools import permutations  \r\n",
        "import matplotlib.pyplot as plt\r\n",
        "import numpy as np\r\n",
        "from matplotlib import colors\r\n",
        "from matplotlib.ticker import PercentFormatter\r\n",
        "import math \r\n",
        "import timeit"
      ],
      "execution_count": 1,
      "outputs": []
    },
    {
      "cell_type": "markdown",
      "metadata": {
        "id": "btwVo59RKMBo"
      },
      "source": [
        "## Punto 1"
      ]
    },
    {
      "cell_type": "code",
      "metadata": {
        "id": "G-pUP_13m5MK"
      },
      "source": [
        "def swap(v,i,j):\r\n",
        "\tt = v[i]\r\n",
        "\tv[i] = v[j]\r\n",
        "\tv[j] = t"
      ],
      "execution_count": 2,
      "outputs": []
    },
    {
      "cell_type": "code",
      "metadata": {
        "id": "IpswK9UXeF0Q"
      },
      "source": [
        "def bubbleSort(v):\r\n",
        "  pasos = 0\r\n",
        "  j = 0\r\n",
        "  i = 0\r\n",
        "  cadena = [0 for i in range(len(v))]\r\n",
        "  for i in range(len(v)):\r\n",
        "    cadena[i] = v[i];\r\n",
        "  for i in range(len(cadena)):\r\n",
        "    hz = False\r\n",
        "    for j in range(0,len(cadena)-i-1):\r\n",
        "      #pasos += 1\r\n",
        "      if cadena[j] > cadena[j+1]:\r\n",
        "        swap(cadena,j,j+1)\r\n",
        "        pasos += 1\r\n",
        "        hz = True\r\n",
        "    if hz == False:\r\n",
        "      break\r\n",
        "  return pasos"
      ],
      "execution_count": 3,
      "outputs": []
    },
    {
      "cell_type": "code",
      "metadata": {
        "id": "27si5n9IplEv"
      },
      "source": [
        "def bubblesSortDistribution():\r\n",
        "  print(\"n = \")\r\n",
        "  n = int(input())\r\n",
        "  j = 0\r\n",
        "  l = math.factorial(n)\r\n",
        "  arr = [i+1 for i in range(n)]\r\n",
        "  dis = [0 for i in range(l)]\r\n",
        "  fec = [0 for i in range(l+1)]\r\n",
        "  # Get all permutations of [1, 2, 3]  \r\n",
        "  perm = permutations(arr)  \r\n",
        "  \r\n",
        "  # Print the obtained permutations  \r\n",
        "  for i in list(perm): \r\n",
        "      k = int(bubbleSort(i))\r\n",
        "      dis[j] = k\r\n",
        "      fec[k] += 1 \r\n",
        "      j += 1\r\n",
        "  for i in range(l):\r\n",
        "    fec[i] /= l\r\n",
        "  print(\"Number of permutations = \",l)\r\n",
        "  print(\"Average number of steps = \",sum(dis)/len(dis))\r\n",
        "  a = set(dis)\r\n",
        "  plt.hist(dis, bins = len(a), density=True)\r\n",
        "  plt.show()"
      ],
      "execution_count": 4,
      "outputs": []
    },
    {
      "cell_type": "code",
      "metadata": {
        "colab": {
          "base_uri": "https://localhost:8080/",
          "height": 332
        },
        "id": "SudfVJ--LQKz",
        "outputId": "fd8f61a6-12d0-44d2-d279-ed5d96d70961"
      },
      "source": [
        "bubblesSortDistribution()"
      ],
      "execution_count": 5,
      "outputs": [
        {
          "output_type": "stream",
          "text": [
            "n = \n",
            "4\n",
            "Number of permutations =  24\n",
            "Average number of steps =  3.0\n"
          ],
          "name": "stdout"
        },
        {
          "output_type": "display_data",
          "data": {
            "image/png": "[encoded data removed]",
            "text/plain": [
              "<Figure size 432x288 with 1 Axes>"
            ]
          },
          "metadata": {
            "tags": [],
            "needs_background": "light"
          }
        }
      ]
    }
  ]
}