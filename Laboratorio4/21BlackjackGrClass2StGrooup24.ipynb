{
  "nbformat": 4,
  "nbformat_minor": 0,
  "metadata": {
    "colab": {
      "name": "Laboratorio4.ipynb",
      "provenance": [],
      "collapsed_sections": []
    },
    "kernelspec": {
      "name": "python3",
      "display_name": "Python 3"
    }
  },
  "cells": [
    {
      "cell_type": "markdown",
      "metadata": {
        "id": "Kw4V1Oi6Npbd"
      },
      "source": [
        "# **Lab 4: Monte Carlo – 21 Blackjack**\n",
        "**Integrantes:** Juan Pablo Carmona Muñoz, Jonathan Andrés Jiménez Trujillo, Daniel Ricardo Mendivelso Velandia. Grupo: 2 - 24\n",
        "\n",
        "**P1:**\n",
        "\n",
        "Estimate the probability of getting a 21, the average number of cards required to complete 21 and plot the experimental distribution of the number of card required to complete 21 drawing cards sequentially from a shuffled Spanish 48-card deck with standard card values and from a shuffled Poker 52-card using Montecarlo with 10 millions simulations.\n",
        "\n",
        "**As the same code is used all along the laboratory, from now on only mayor changes on it will be highlited**"
      ]
    },
    {
      "cell_type": "code",
      "metadata": {
        "id": "G0JkkbLwyP4U",
        "outputId": "8cb33d39-dd9e-48a1-9f1e-9b384f415849",
        "colab": {
          "base_uri": "https://localhost:8080/",
          "height": 332
        }
      },
      "source": [
        "#Punto 1. Baraja española\n",
        "import random\n",
        "import matplotlib.pyplot as plt\n",
        "n = 10000000\n",
        "count21 = 0\n",
        "prnc = 0\n",
        "num_cards = []\n",
        "for i in range(n):\n",
        "  cartas = [1,2,3,4,5,6,7,8,9,10,11,12,1,2,3,4,5,6,7,8,9,10,11,12,1,2,3,4,5,6,7,8,9,10,11,12,1,2,3,4,5,6,7,8,9,10,11,12] #definimos el conjunto de cartas\n",
        "  my_cards = []\n",
        "  nc = 0\n",
        "  while(sum(my_cards)<21): #en este loop vamos sacando cartas hasta que tengamos 21 o mas\n",
        "    card = random.randint(0,len(cartas)-1) #seleccionamos un numero al azar\n",
        "    my_cards.append(cartas[card]) #añadimos al conjunto de cartas la carta escogida\n",
        "    cartas.pop(card) #sacamos la carta de la baraja\n",
        "    nc = nc+1 #aumentamos el numero de cartas que hemos sacado\n",
        "  if(sum(my_cards) == 21): #aqui verificamos si completamos 21 en mis cartas aumentamos el numero de veces que saque 21 asi como el promedio de numero de cartas\n",
        "    count21 = count21 + 1\n",
        "    prnc = prnc + nc\n",
        "    num_cards.append(nc)\n",
        "\n",
        "print(\"Probabilidad de sacar 21 en una baraja española: \" , count21/n)\n",
        "print(\"Promedio de cartas necesarias: \", prnc / count21)\n",
        "plt.title(\"Probabilidad de obtener 21 dependiendo del numero de cartas\")\n",
        "plt.xlabel(\"Numero de cartas\")\n",
        "plt.ylabel(\"Probabilidad\")\n",
        "plt.hist(num_cards, density = True, bins=max(num_cards)-min(num_cards))\n",
        "#plt.xticks(range(0,max(num_cards),1))\n",
        "plt.show()"
      ],
      "execution_count": null,
      "outputs": [
        {
          "output_type": "stream",
          "text": [
            "Probabilidad de sacar 21 en una baraja española:  0.1577142\n",
            "Promedio de cartas necesarias:  3.4158687042764697\n"
          ],
          "name": "stdout"
        },
        {
          "output_type": "display_data",
          "data": {
            "image/png": "[encoded data removed]",
            "text/plain": [
              "<Figure size 432x288 with 1 Axes>"
            ]
          },
          "metadata": {
            "tags": [],
            "needs_background": "light"
          }
        }
      ]
    },
    {
      "cell_type": "code",
      "metadata": {
        "id": "JoZ8gg4cy051",
        "outputId": "5a048995-e447-486b-8567-a4ea9ea0932e",
        "colab": {
          "base_uri": "https://localhost:8080/",
          "height": 332
        }
      },
      "source": [
        "#Punto 1. Baraja de naipes\n",
        "import random\n",
        "import matplotlib.pyplot as plt\n",
        "n = 10000000\n",
        "count21 = 0\n",
        "prnc = 0\n",
        "num_cards = []\n",
        "for i in range(n):\n",
        "  cartas = [1,2,3,4,5,6,7,8,9,10,11,12,13,1,2,3,4,5,6,7,8,9,10,11,12,13,1,2,3,4,5,6,7,8,9,10,11,12,13,1,2,3,4,5,6,7,8,9,10,11,12,13]\n",
        "  my_cards = []\n",
        "  nc = 0\n",
        "  while(sum(my_cards)<21):\n",
        "    card = random.randint(0,len(cartas)-1)\n",
        "    my_cards.append(cartas[card])\n",
        "    cartas.pop(card)\n",
        "    nc = nc+1\n",
        "  if(sum(my_cards) == 21):\n",
        "    count21 = count21 + 1\n",
        "    prnc = prnc + nc\n",
        "    num_cards.append(nc)\n",
        "\n",
        "print(\"Probabilidad de sacar 21 en una baraja de naipes: \", count21/n)\n",
        "print(\"Promedio de cartas necesarias: \", prnc / count21)\n",
        "plt.title(\"Probabilidad de obtener 21 dependiendo del numero de cartas\")\n",
        "plt.xlabel(\"Numero de cartas\")\n",
        "plt.ylabel(\"Probabilidad\")\n",
        "plt.hist(num_cards, density = True, bins=max(num_cards)-min(num_cards))\n",
        "#plt.xticks(range(0,max(num_cards),1))\n",
        "plt.show()"
      ],
      "execution_count": null,
      "outputs": [
        {
          "output_type": "stream",
          "text": [
            "Probabilidad de sacar 21 en una baraja de naipes:  0.1448774\n",
            "Promedio de cartas necesarias:  3.2157914208841407\n"
          ],
          "name": "stdout"
        },
        {
          "output_type": "display_data",
          "data": {
            "image/png": "[encoded data removed]",
            "text/plain": [
              "<Figure size 432x288 with 1 Axes>"
            ]
          },
          "metadata": {
            "tags": [],
            "needs_background": "light"
          }
        }
      ]
    },
    {
      "cell_type": "markdown",
      "metadata": {
        "id": "9jzsXgUAO42M"
      },
      "source": [
        "\n",
        "**P2:**\n",
        "\n",
        "Estimate the probability of getting a 21, the average number of cards required to complete 21 and plot the experimental distribution of the number of card required to complete 21 drawing cards sequentially from a shuffled Spanish 48-card deck with card value 10 for the figures, and from a shuffled Poker 52-card deck with card value 10 for the figures using Montecarlo with 10 millions simulations.\n"
      ]
    },
    {
      "cell_type": "code",
      "metadata": {
        "id": "FbhtsDWT3iDz",
        "outputId": "f5c243a7-46ed-41c7-d0a7-fe96e8fdccd6",
        "colab": {
          "base_uri": "https://localhost:8080/",
          "height": 332
        }
      },
      "source": [
        "#Punto 2. Baraja española\n",
        "import random\n",
        "import matplotlib.pyplot as plt\n",
        "\n",
        "n = 10000000\n",
        "count21 = 0\n",
        "prnc = 0\n",
        "num_cards = []\n",
        "for i in range(n):\n",
        "  cartas = [1,2,3,4,5,6,7,8,9,10,10,10,1,2,3,4,5,6,7,8,9,10,10,10,1,2,3,4,5,6,7,8,9,10,10,10,1,2,3,4,5,6,7,8,9,10,10,10] \n",
        "  my_cards = []\n",
        "  nc = 0\n",
        "  while(sum(my_cards)<21):\n",
        "    card = random.randint(0,len(cartas)-1)\n",
        "    my_cards.append(cartas[card])\n",
        "    cartas.pop(card)\n",
        "    nc = nc+1\n",
        "  if(sum(my_cards) == 21):\n",
        "    count21 = count21 + 1\n",
        "    prnc = prnc + nc\n",
        "    num_cards.append(nc)\n",
        "\n",
        "plt.title(\"Probabilidad de obtener 21 dependiendo del numero de cartas\")\n",
        "plt.xlabel(\"Numero de cartas\")\n",
        "plt.ylabel(\"Probabilidad\")\n",
        "plt.hist(num_cards, density = True, bins=max(num_cards)-min(num_cards))\n",
        "#plt.xticks(range(0,max(num_cards),1))\n",
        "plt.show()\n",
        "\n",
        "print(\"Probabilidad de sacar 21 en una baraja española de 10s: \" , count21/n)\n",
        "print(\"Promedio de cartas necesarias: \", prnc / count21)"
      ],
      "execution_count": null,
      "outputs": [
        {
          "output_type": "display_data",
          "data": {
            "image/png": "[encoded data removed]",
            "text/plain": [
              "<Figure size 432x288 with 1 Axes>"
            ]
          },
          "metadata": {
            "tags": [],
            "needs_background": "light"
          }
        },
        {
          "output_type": "stream",
          "text": [
            "Probabilidad de sacar 21 en una baraja española de 10s:  0.1495503\n",
            "Promedio de cartas necesarias:  3.6996996996997\n"
          ],
          "name": "stdout"
        }
      ]
    },
    {
      "cell_type": "code",
      "metadata": {
        "id": "k0QGxyP14n5Y",
        "outputId": "a722fa67-e4d2-4b93-bd1a-47ac17186280",
        "colab": {
          "base_uri": "https://localhost:8080/",
          "height": 332
        }
      },
      "source": [
        "#Punto 2. Baraja de naipes\n",
        "import random\n",
        "import matplotlib.pyplot as plt\n",
        "\n",
        "n = 10000000\n",
        "count21 = 0\n",
        "prnc = 0\n",
        "num_cards = []\n",
        "for i in range(n):\n",
        "  cartas = [1,2,3,4,5,6,7,8,9,10,10,10,10,1,2,3,4,5,6,7,8,9,10,10,10,10,1,2,3,4,5,6,7,8,9,10,10,10,10,1,2,3,4,5,6,7,8,9,10,10,10,10]\n",
        "  my_cards = []\n",
        "  nc = 0\n",
        "  while(sum(my_cards)<21):\n",
        "    card = random.randint(0,len(cartas)-1)\n",
        "    my_cards.append(cartas[card])\n",
        "    cartas.pop(card)\n",
        "    nc = nc+1\n",
        "  if(sum(my_cards) == 21):\n",
        "    count21 = count21 + 1\n",
        "    prnc = prnc + nc\n",
        "    num_cards.append(nc)\n",
        "\n",
        "plt.title(\"Probabilidad de obtener 21 dependiendo del numero de cartas\")\n",
        "plt.xlabel(\"Numero de cartas\")\n",
        "plt.ylabel(\"Probabilidad\")\n",
        "plt.hist(num_cards, density = True, bins=max(num_cards)-min(num_cards))\n",
        "plt.xticks(range(3,max(num_cards),1))\n",
        "plt.show()\n",
        "\n",
        "print(\"Probabilidad de sacar 21 en una baraja española de 10s: \" , count21/n)\n",
        "print(\"Promedio de cartas necesarias: \", prnc / count21)"
      ],
      "execution_count": null,
      "outputs": [
        {
          "output_type": "display_data",
          "data": {
            "image/png": "[encoded data removed]",
            "text/plain": [
              "<Figure size 432x288 with 1 Axes>"
            ]
          },
          "metadata": {
            "tags": [],
            "needs_background": "light"
          }
        },
        {
          "output_type": "stream",
          "text": [
            "Probabilidad de sacar 21 en una baraja española de 10s:  0.1400386\n",
            "Promedio de cartas necesarias:  3.5773286793784\n"
          ],
          "name": "stdout"
        }
      ]
    },
    {
      "cell_type": "markdown",
      "metadata": {
        "id": "8o0IipWSO7P3"
      },
      "source": [
        "\n",
        "**P3:**\n",
        "\n",
        "Estimate the probability of getting a 21, the average total number of cards required to complete 21 (including the three that you start with) and plot the experimental distribution of the number of card required to complete 21 with drawing cards sequentially from a shuffled Spanish 48-card deck with 3 10’s and a shuffled Poker 52-card deck with 4 10’s.\n",
        "\n",
        "Assuming that you have in your hand the cards [7,7,5]as and the remaining deck has n/2 cards. You can pick the $n/2$ cards in the remaining deck in whatever way you choose but with restriction that this has maximum two 7s and three 5, you have to keep the remaining deck fixed through the simulations, use Montecarlo with 10 millions simulations.\n"
      ]
    },
    {
      "cell_type": "code",
      "metadata": {
        "id": "8i-Fl99r7tUC",
        "outputId": "ab4eeaec-06c9-42b7-ea15-e0f34a9ad41d",
        "colab": {
          "base_uri": "https://localhost:8080/",
          "height": 295
        }
      },
      "source": [
        "#Punto 3. Baraja española\n",
        "import random\n",
        "import matplotlib.pyplot as plt\n",
        "\n",
        "n = 10000000\n",
        "count21 = 0\n",
        "prnc = 0\n",
        "num_cards = []\n",
        "for i in range(n):\n",
        "  cartas = [1,2,3,4,6,10,10,10,1,2,3,4,5,6,8,9,10,10,10,1,2,3,4,5,6,7,8,9,10,10,10,1,2,3,4,5,6,7,8,9,10,10,10]\n",
        "  while(len(cartas)>24):\n",
        "      cartas.remove(random.choice(cartas))\n",
        "\n",
        "  my_cards = [7, 7, 5]\n",
        "  nc = 3\n",
        "\n",
        "  while(sum(my_cards)<21):\n",
        "    card = random.randint(0,len(cartas)-1)\n",
        "    my_cards.append(cartas[card])\n",
        "    cartas.pop(card)\n",
        "    nc = nc+1\n",
        "  if(sum(my_cards) == 21):\n",
        "    count21 = count21 + 1\n",
        "    prnc = prnc + nc\n",
        "    num_cards.append(nc)\n",
        "\n",
        "plt.title(\"Probabilidad de obtener 21 dependiendo del numero de cartas\")\n",
        "plt.xlabel(\"Numero de cartas\")\n",
        "plt.ylabel(\"Probabilidad\")\n",
        "plt.hist(num_cards, density = True, bins=[4,5,6])\n",
        "plt.xticks(range(4,max(num_cards)+2,1))\n",
        "plt.show()"
      ],
      "execution_count": null,
      "outputs": [
        {
          "output_type": "display_data",
          "data": {
            "image/png": "[encoded data removed]",
            "text/plain": [
              "<Figure size 432x288 with 1 Axes>"
            ]
          },
          "metadata": {
            "tags": [],
            "needs_background": "light"
          }
        }
      ]
    },
    {
      "cell_type": "code",
      "metadata": {
        "id": "wu5stbdB9Vp1",
        "outputId": "1dbc92d1-f8b7-4f12-c1da-7aeeae48829a",
        "colab": {
          "base_uri": "https://localhost:8080/",
          "height": 295
        }
      },
      "source": [
        "#Punto 3. Baraja de naipes\n",
        "import random\n",
        "import matplotlib.pyplot as plt\n",
        "\n",
        "n = 10000000\n",
        "count21 = 0\n",
        "prnc = 0\n",
        "num_cards = []\n",
        "for i in range(n):\n",
        "  cartas = [1,2,3,4,5,6,10,10,10,10,1,2,3,4,5,6,8,9,10,10,10,10,1,2,3,4,6,7,8,9,10,10,10,10,1,2,3,4,5,6,7,8,9,10,10,10,10]\n",
        "  while(len(cartas)>26):\n",
        "      cartas.remove(random.choice(cartas))\n",
        "\n",
        "  my_cards = [7, 7, 5]\n",
        "  nc = 3\n",
        "\n",
        "  while(sum(my_cards)<21):\n",
        "    card = random.randint(0,len(cartas)-1)\n",
        "    my_cards.append(cartas[card])\n",
        "    cartas.pop(card)\n",
        "    nc = nc+1\n",
        "  if(sum(my_cards) == 21):\n",
        "    count21 = count21 + 1\n",
        "    prnc = prnc + nc\n",
        "    num_cards.append(nc)\n",
        "\n",
        "#plt.title(\"Cartas necesarias\")\n",
        "#plt.hist(num_cards, density = True, bins=max(num_cards)-min(num_cards))\n",
        "#plt.xticks(range(0,max(num_cards)+2,1))\n",
        "#plt.show()\n",
        "plt.title(\"Probabilidad de obtener 21 dependiendo del numero de cartas\")\n",
        "plt.xlabel(\"Numero de cartas\")\n",
        "plt.ylabel(\"Probabilidad\")\n",
        "plt.hist(num_cards, density = True, bins=[4,5,6])\n",
        "plt.xticks(range(4,max(num_cards)+2,1))\n",
        "plt.show()"
      ],
      "execution_count": null,
      "outputs": [
        {
          "output_type": "display_data",
          "data": {
            "image/png": "[encoded data removed]",
            "text/plain": [
              "<Figure size 432x288 with 1 Axes>"
            ]
          },
          "metadata": {
            "tags": [],
            "needs_background": "light"
          }
        }
      ]
    },
    {
      "cell_type": "markdown",
      "metadata": {
        "id": "3N-G3_wdPIUT"
      },
      "source": [
        "Sin importar la distribucion de las cartas en la baraja las probabilidades convergen a los mismos valores, ya que con base en lo que tenemos en la mano necesitamos solo 2 cartas posibles Un 2 o Dos 1 asi que la probabilidad de sar estas cartas es la que determina la probabilidad de exito. Por ende se discrimina el resto de la baraja.\n",
        "\n",
        "**P4:**\n",
        "\n",
        "Find two remaining decks with 10 cards; for a Spanish 48-card deck with 3 10’s and for a Poker 52-card deck with 4 10’s;\n",
        "\n",
        "One remaining has the highest probability of getting 21 (hot deck) and the other remainings that has the lowest probability of getting 21(cold deck) assuming that you have in your hand the cards [7,7,5].\n",
        "\n",
        "Calculate analytically the probabilities of getting a 21 for both the hot an cold deck, estimate this probabilities of getting a 21, the average total number of cards required to complete 21 (including the three that you start with) and plot the experimental distribution of the total number of card required to complete 21 (including the three that you start with) using Montecarlo with 10 millions simulations.\n",
        "\n"
      ]
    },
    {
      "cell_type": "markdown",
      "metadata": {
        "id": "w95M82yBrXov"
      },
      "source": [
        "A hot deck has 4 ones and 4 twos and two extra card, so the probability of taking a 2 is 4/10 or 4/10 * 3/9 for taking two ones in a row.\n",
        "\n",
        "The analytic probability makes that 4/10+ (4/10*3/9) , that bring us as result the probability of 0.53333\n",
        "\n",
        "Un hot deck tiene 4 unos y 4 doces y dos cartas mayores a 1 y a 2\n",
        "entonces tendriamos 4/10 de probabilidad de sacar un 2 para completar 21\n",
        "o 4/10 * 3/9 para sacar dos unos seguidos.\n",
        "lo que en total nos da una probabilidad total de 4/10+ (4/10*3/9) que es igual a = 0.53333333"
      ]
    },
    {
      "cell_type": "code",
      "metadata": {
        "id": "vASqBTuFsTUm",
        "outputId": "d2825f56-af48-45a2-ab1f-f8c0eb565efd",
        "colab": {
          "base_uri": "https://localhost:8080/",
          "height": 35
        }
      },
      "source": [
        "4/10+(4/10*3/9)"
      ],
      "execution_count": null,
      "outputs": [
        {
          "output_type": "execute_result",
          "data": {
            "text/plain": [
              "0.5333333333333334"
            ]
          },
          "metadata": {
            "tags": []
          },
          "execution_count": 31
        }
      ]
    },
    {
      "cell_type": "code",
      "metadata": {
        "id": "2F393H6p-26E",
        "outputId": "d7a9c752-6a18-4250-dad8-813aaaabfcdb",
        "colab": {
          "base_uri": "https://localhost:8080/",
          "height": 313
        }
      },
      "source": [
        "#Punto 4. Baraja española (hot deck)\n",
        "import random\n",
        "import matplotlib.pyplot as plt\n",
        "\n",
        "n = 10000000\n",
        "count21 = 0\n",
        "prnc = 0\n",
        "num_cards = []\n",
        "for i in range(n):\n",
        "  cartas = [1,1,1,1,2,2,2,2,10,10]\n",
        "  my_cards = [7, 7, 5]\n",
        "  nc = 3\n",
        "\n",
        "  while(sum(my_cards)<21):\n",
        "    card = random.randint(0,len(cartas)-1)\n",
        "    my_cards.append(cartas[card])\n",
        "    cartas.pop(card)\n",
        "    nc = nc + 1\n",
        "  if(sum(my_cards) == 21):\n",
        "    count21 = count21 + 1\n",
        "    prnc = prnc + nc\n",
        "    num_cards.append(nc)\n",
        "\n",
        "print(\"probabilidad con hot deck\", count21/n)\n",
        "plt.title(\"Probabilidad de obtener 21 dependiendo del numero de cartas\")\n",
        "plt.xlabel(\"Numero de cartas\")\n",
        "plt.ylabel(\"Probabilidad\")\n",
        "plt.hist(num_cards, density = True, bins=[4,5,6])\n",
        "plt.xticks(range(4,max(num_cards)+2,1))\n",
        "plt.show()"
      ],
      "execution_count": null,
      "outputs": [
        {
          "output_type": "stream",
          "text": [
            "probabilidad con hot deck 0.5332399\n"
          ],
          "name": "stdout"
        },
        {
          "output_type": "display_data",
          "data": {
            "image/png": "[encoded data removed]",
            "text/plain": [
              "<Figure size 432x288 with 1 Axes>"
            ]
          },
          "metadata": {
            "tags": [],
            "needs_background": "light"
          }
        }
      ]
    },
    {
      "cell_type": "code",
      "metadata": {
        "id": "TUyp6BDytBJ9",
        "outputId": "d8fb4bb2-63ba-4555-abf9-3ebedc50d1f0",
        "colab": {
          "base_uri": "https://localhost:8080/",
          "height": 350
        }
      },
      "source": [
        "#Punto 4. Baraja española (cold deck)\n",
        "import random\n",
        "import matplotlib.pyplot as plt\n",
        "\n",
        "n = 10000000\n",
        "count21 = 0\n",
        "prnc = 0\n",
        "num_cards = []\n",
        "for i in range(n):\n",
        "  cartas = [10,10,9,3,9,8,5,4,7,8]\n",
        "  my_cards = [7, 7, 5]\n",
        "  nc = 0\n",
        "\n",
        "  while(sum(my_cards)<21):\n",
        "    card = random.randint(0,len(cartas)-1)\n",
        "    my_cards.append(cartas[card])\n",
        "    cartas.pop(card)\n",
        "    nc = nc + 1\n",
        "  if(sum(my_cards) == 21):\n",
        "    count21 = count21 + 1\n",
        "    prnc = prnc + nc\n",
        "    num_cards.append(nc)\n",
        "\n",
        "print(\"probabilidad con cold deck\", count21/n)\n",
        "plt.title(\"Probabilidad de obtener 21 dependiendo del numero de cartas\")\n",
        "plt.xlabel(\"Numero de cartas\")\n",
        "plt.ylabel(\"Probabilidad\")\n",
        "plt.xlim(1, 5)\n",
        "plt.ylim(0,1)\n",
        "plt.hist(num_cards, density = True, bins=[1,2,3])\n",
        "#plt.xticks(range(0,max(num_cards)+2,1))\n",
        "plt.show()"
      ],
      "execution_count": null,
      "outputs": [
        {
          "output_type": "stream",
          "text": [
            "probabilidad con cold deck 0.0\n"
          ],
          "name": "stdout"
        },
        {
          "output_type": "stream",
          "text": [
            "/usr/local/lib/python3.6/dist-packages/numpy/lib/histograms.py:908: RuntimeWarning: invalid value encountered in true_divide\n",
            "  return n/db/n.sum(), bin_edges\n"
          ],
          "name": "stderr"
        },
        {
          "output_type": "display_data",
          "data": {
            "image/png": "[encoded data removed]",
            "text/plain": [
              "<Figure size 432x288 with 1 Axes>"
            ]
          },
          "metadata": {
            "tags": [],
            "needs_background": "light"
          }
        }
      ]
    },
    {
      "cell_type": "code",
      "metadata": {
        "id": "Mm7YVV7Tt0wX",
        "outputId": "351225ab-d40b-4cf6-9c9f-85e81c9d3e7f",
        "colab": {
          "base_uri": "https://localhost:8080/",
          "height": 313
        }
      },
      "source": [
        "#Punto 4. Baraja naipes (hot deck)\n",
        "import random\n",
        "import matplotlib.pyplot as plt\n",
        "\n",
        "n = 10000000\n",
        "count21 = 0\n",
        "prnc = 0\n",
        "num_cards = []\n",
        "for i in range(n):\n",
        "  cartas = [1,1,1,1,2,2,2,2,10,10]\n",
        "  my_cards = [7, 7, 5]\n",
        "  nc = 0\n",
        "\n",
        "  while(sum(my_cards)<21):\n",
        "    card = random.randint(0,len(cartas)-1)\n",
        "    my_cards.append(cartas[card])\n",
        "    cartas.pop(card)\n",
        "    nc = nc + 1\n",
        "  if(sum(my_cards) == 21):\n",
        "    count21 = count21 + 1\n",
        "    prnc = prnc + nc\n",
        "    num_cards.append(nc)\n",
        "\n",
        "print(\"probabilidad con hot deck\", count21/n)\n",
        "plt.title(\"Probabilidad de obtener 21 dependiendo del numero de cartas\")\n",
        "plt.xlabel(\"Numero de cartas\")\n",
        "plt.ylabel(\"Probabilidad\")\n",
        "plt.hist(num_cards, density = True, bins=[1,2,3])\n",
        "plt.xticks(range(1,max(num_cards)+2,1))\n",
        "plt.show()"
      ],
      "execution_count": null,
      "outputs": [
        {
          "output_type": "stream",
          "text": [
            "probabilidad con hot deck 0.5333421\n"
          ],
          "name": "stdout"
        },
        {
          "output_type": "display_data",
          "data": {
            "image/png": "[encoded data removed]",
            "text/plain": [
              "<Figure size 432x288 with 1 Axes>"
            ]
          },
          "metadata": {
            "tags": [],
            "needs_background": "light"
          }
        }
      ]
    },
    {
      "cell_type": "markdown",
      "metadata": {
        "id": "VJlQfUPTQmzG"
      },
      "source": [
        "\n",
        "\n",
        "Analytically: For the cold deck used for the poker deck, the probability of obtaining a 21 is based on the probability of drawing a card or combination of cards that add up to 21, in this particular deck we have:\n",
        "\n",
        "Colddeck = [4, 6, 8, 3, 7, 5, 3, 4, 7, 9]\n",
        "\n",
        "$S=$ Get a card that added whith the hand adds up to 21\n",
        "\n",
        "$D=$ Chance of getting a 2 on the hot deck\n",
        "\n",
        "$U=$ Probability of getting a 1 on the hot deck\n",
        "\n",
        "Then as there are no ones or twos inside our cold deck the chances of obtaining a 21 are reduced to 0.\n",
        "Then as there are no ones or twos inside our cold deck the chances of obtaining a 21 are reduced to 0.\n",
        "\n",
        "$P(S) = 0 $\n"
      ]
    },
    {
      "cell_type": "code",
      "metadata": {
        "id": "_-3pHv7It3zh",
        "outputId": "8e4f838e-f8d8-42b5-b589-9b901b50c18c",
        "colab": {
          "base_uri": "https://localhost:8080/",
          "height": 350
        }
      },
      "source": [
        "#Punto 4. Baraja naipes (cold deck)\n",
        "import random\n",
        "import matplotlib.pyplot as plt\n",
        "\n",
        "n = 10000000\n",
        "count21 = 0\n",
        "prnc = 0\n",
        "num_cards = []\n",
        "for i in range(n):\n",
        "  cartas = [10,10,9,3,9,8,5,4,7,8]\n",
        "  my_cards = [7, 7, 5]\n",
        "  nc = 0\n",
        "\n",
        "  while(sum(my_cards)<21):\n",
        "    card = random.randint(0,len(cartas)-1)\n",
        "    my_cards.append(cartas[card])\n",
        "    cartas.pop(card)\n",
        "    nc = nc + 1\n",
        "  if(sum(my_cards) == 21):\n",
        "    count21 = count21 + 1\n",
        "    prnc = prnc + nc\n",
        "    num_cards.append(nc)\n",
        "\n",
        "print(\"probabilidad con cold deck\", count21/n)\n",
        "plt.title(\"Probabilidad de obtener 21 dependiendo del numero de cartas\")\n",
        "plt.xlabel(\"Numero de cartas\")\n",
        "plt.ylabel(\"Probabilidad\")\n",
        "plt.xlim(1, 5)\n",
        "plt.ylim(0,1)\n",
        "plt.hist(num_cards, density = True, bins=[1,2,3])\n",
        "#plt.xticks(range(0,max(num_cards)+2,1))\n",
        "plt.show()"
      ],
      "execution_count": null,
      "outputs": [
        {
          "output_type": "stream",
          "text": [
            "probabilidad con cold deck 0.0\n"
          ],
          "name": "stdout"
        },
        {
          "output_type": "stream",
          "text": [
            "/usr/local/lib/python3.6/dist-packages/numpy/lib/histograms.py:908: RuntimeWarning: invalid value encountered in true_divide\n",
            "  return n/db/n.sum(), bin_edges\n"
          ],
          "name": "stderr"
        },
        {
          "output_type": "display_data",
          "data": {
            "image/png": "[encoded data removed]",
            "text/plain": [
              "<Figure size 432x288 with 1 Axes>"
            ]
          },
          "metadata": {
            "tags": [],
            "needs_background": "light"
          }
        }
      ]
    },
    {
      "cell_type": "markdown",
      "metadata": {
        "id": "AUDMBBIcROaN"
      },
      "source": [
        "\n",
        "**P5:**\n",
        "\n",
        "Estimate the average amount of money (expected value) that Ben wins or losses on a weekend if Ben goes to Vegas every weekend (Friday, Saturday and Sunday), plays every weekend day 10 hours, each game takes 3 mins.\n",
        "\n",
        "Assume that for each game he gets two possibilities, in one he gets in his hand the cards [7,7,5] and a remaining hot deck cards with which case he bets $\\$ $1000 this happens with probability 1/10;\n",
        "\n",
        "In the other one he gets no cards in his hand a complete shuffled deck in which case he bets $\\$ $10 ,this happens with the remaining probability 9/10.\n",
        "\n",
        "Use 10000 Montecarlo simulations to estimated the expected amount of money that Ben wins or losses on a weekend for a Spanish 48-card deck with 3 10’s and for a Poker 52-card deck with 4 10’s.\n"
      ]
    },
    {
      "cell_type": "markdown",
      "metadata": {
        "id": "PtoLN-ndQNwB"
      },
      "source": [
        "En el punto 5 la ganancia esperada con una baraja española se puede calcular analiticamente basandonos en la probabilidad que nos dio anteriormente con el hot deck y con el deck normal de la siguiente manera:\n",
        "\n",
        "apuesta 1000 en los hot decks y suponiendo que gana tenemos (1000 * 0.5333333333333334)\n",
        "\n",
        "y cuando apuesta 1000 en los hot decks y pierde tenemos (-1000 * (1 - 0.5333333333333334))"
      ]
    },
    {
      "cell_type": "code",
      "metadata": {
        "id": "LiqKlXcORKvn",
        "outputId": "611c71ad-de75-4808-b8b8-3a01ca47149e",
        "colab": {
          "base_uri": "https://localhost:8080/",
          "height": 35
        }
      },
      "source": [
        "(1000 * 0.5333333333333334) + (-1000 * (1 - 0.5333333333333334))"
      ],
      "execution_count": null,
      "outputs": [
        {
          "output_type": "execute_result",
          "data": {
            "text/plain": [
              "66.66666666666691"
            ]
          },
          "metadata": {
            "tags": []
          },
          "execution_count": 36
        }
      ]
    },
    {
      "cell_type": "markdown",
      "metadata": {
        "id": "FAC4gBKeRVdC"
      },
      "source": [
        "Por otr lado en los deck normales tenemos\n",
        "\n",
        "apuesta 10 en un deck normal y gana entonces tenemos (10 * 0.1577)\n",
        "\n",
        "apuesta 10 en un deck normal y pierde entonces tenemos (-10 * (1 - 0.1577))"
      ]
    },
    {
      "cell_type": "code",
      "metadata": {
        "id": "ohE7ktljRuCg",
        "outputId": "b64f0921-6540-4dfd-b66a-3355faa00605",
        "colab": {
          "base_uri": "https://localhost:8080/",
          "height": 35
        }
      },
      "source": [
        "(10 * 0.1496) + (-10 * (1 - 0.1496))"
      ],
      "execution_count": null,
      "outputs": [
        {
          "output_type": "execute_result",
          "data": {
            "text/plain": [
              "-7.008000000000001"
            ]
          },
          "metadata": {
            "tags": []
          },
          "execution_count": 37
        }
      ]
    },
    {
      "cell_type": "markdown",
      "metadata": {
        "id": "4NUUJGCjR6s-"
      },
      "source": [
        "Ahora bien como tenemos una probabilidad de 1/10(0.1) de obtener un hot deck y de 9/10 de obtener un deck normal(0.9) entonces podemos estimar la ganancia total como:"
      ]
    },
    {
      "cell_type": "code",
      "metadata": {
        "id": "gbORVrkNSF6o",
        "outputId": "2a51deac-e1b7-4efd-d167-12f643803317",
        "colab": {
          "base_uri": "https://localhost:8080/",
          "height": 35
        }
      },
      "source": [
        "(66.66666666666691 * 0.1)+(-7.008*(1 - 0.1))"
      ],
      "execution_count": null,
      "outputs": [
        {
          "output_type": "execute_result",
          "data": {
            "text/plain": [
              "0.3594666666666919"
            ]
          },
          "metadata": {
            "tags": []
          },
          "execution_count": 38
        }
      ]
    },
    {
      "cell_type": "markdown",
      "metadata": {
        "id": "JFkWnLF_SYAS"
      },
      "source": [
        "Y al mirar los 600 juegos obtenemos:"
      ]
    },
    {
      "cell_type": "code",
      "metadata": {
        "id": "SvvVyRBZSbWj",
        "outputId": "b850a297-d7d4-4a0c-889b-1b87e832b90e",
        "colab": {
          "base_uri": "https://localhost:8080/",
          "height": 35
        }
      },
      "source": [
        "0.3594666666666919 * 600"
      ],
      "execution_count": null,
      "outputs": [
        {
          "output_type": "execute_result",
          "data": {
            "text/plain": [
              "215.68000000001516"
            ]
          },
          "metadata": {
            "tags": []
          },
          "execution_count": 39
        }
      ]
    },
    {
      "cell_type": "code",
      "metadata": {
        "id": "VBZ9dt1OuA90",
        "outputId": "f365cfcc-fda3-4a35-c501-1e2f6fd26a53",
        "colab": {
          "base_uri": "https://localhost:8080/",
          "height": 34
        }
      },
      "source": [
        "#Punto 5. Baraja española\n",
        "import numpy as np\n",
        "import random\n",
        "import matplotlib.pyplot as plt\n",
        "\n",
        "hours = 10\n",
        "game = 3\n",
        "minutos = hours * 60\n",
        "n = minutos\n",
        "count21 = 0\n",
        "prnc = 0\n",
        "num_cards = []\n",
        "prompdinero = []\n",
        "count = 0\n",
        "for i in range(10000):\n",
        "  #dinero = []\n",
        "  dinero = 0\n",
        "  for j in range(minutos):\n",
        "    hot = random.randint(0,9)\n",
        "    #print(hot)\n",
        "    if hot == 0:\n",
        "      count = count + 1\n",
        "      cartas = [1,1,1,1,2,2,2,2,10,10]\n",
        "      my_cards = [7, 7, 5]\n",
        "      nc = 3\n",
        "      while(sum(my_cards)<21):\n",
        "        card = random.randint(0,len(cartas)-1)\n",
        "        my_cards.append(cartas[card])\n",
        "        cartas.pop(card)\n",
        "        nc = nc + 1\n",
        "      if(sum(my_cards) == 21):\n",
        "        dinero = dinero + 1000\n",
        "      else:\n",
        "        dinero = dinero - 1000\n",
        "    else:\n",
        "      cartas = [1,2,3,4,5,6,7,8,9,10,10,10,1,2,3,4,5,6,7,8,9,10,10,10,1,2,3,4,5,6,7,8,9,10,10,10,1,2,3,4,5,6,7,8,9,10,10,10]\n",
        "      my_cards = []\n",
        "      nc = 0\n",
        "      while(sum(my_cards)<21):\n",
        "        card = random.randint(0,len(cartas)-1)\n",
        "        my_cards.append(cartas[card])\n",
        "        cartas.pop(card)\n",
        "        nc = nc+1\n",
        "      if(sum(my_cards) == 21):\n",
        "        dinero = dinero + 10\n",
        "      else:\n",
        "        dinero = dinero - 10\n",
        "\n",
        "  prompdinero.append(dinero)\n",
        "\n",
        "prompdinero = np.asarray(prompdinero)\n",
        "print(prompdinero.mean())"
      ],
      "execution_count": 1,
      "outputs": [
        {
          "output_type": "stream",
          "text": [
            "302.183\n"
          ],
          "name": "stdout"
        }
      ]
    },
    {
      "cell_type": "markdown",
      "metadata": {
        "id": "SU6In7TOrIAe"
      },
      "source": [
        ""
      ]
    },
    {
      "cell_type": "markdown",
      "metadata": {
        "id": "a6aWbGw_rJtT"
      },
      "source": [
        "En el punto 5 la ganancia esperada con una baraja de naipes se puede calcular analiticamente basandonos en la probabilidad que nos dio anteriormente con el hot deck y con el deck normal de la siguiente manera:\n",
        "\n",
        "apuesta 1000 en los hot decks y suponiendo que gana tenemos (1000 * 0.5333333333333334)\n",
        "\n",
        "y cuando apuesta 1000 en los hot decks y pierde tenemos (-1000 * (1 - 0.5333333333333334))"
      ]
    },
    {
      "cell_type": "code",
      "metadata": {
        "id": "mZ98KF4QrJtX",
        "outputId": "f38e9cfc-84e6-4818-9da2-2ee6b3ec237d",
        "colab": {
          "base_uri": "https://localhost:8080/",
          "height": 35
        }
      },
      "source": [
        "(1000 * 0.5333333333333334) + (-1000 * (1 - 0.5333333333333334))"
      ],
      "execution_count": null,
      "outputs": [
        {
          "output_type": "execute_result",
          "data": {
            "text/plain": [
              "66.66666666666691"
            ]
          },
          "metadata": {
            "tags": []
          },
          "execution_count": 41
        }
      ]
    },
    {
      "cell_type": "markdown",
      "metadata": {
        "id": "ooDiB9IgrJtq"
      },
      "source": [
        "Por otr lado en los deck normales tenemos\n",
        "\n",
        "Apuesta 10 en un deck normal y gana entonces tenemos (10 * 0.1400311)\n",
        "\n",
        "Apuesta 10 en un deck normal y pierde entonces tenemos (-10 * (1 - 0.1400311))"
      ]
    },
    {
      "cell_type": "code",
      "metadata": {
        "id": "mxFUzc0trJts",
        "outputId": "44654b37-2854-485d-d666-eacb511a7554",
        "colab": {
          "base_uri": "https://localhost:8080/",
          "height": 35
        }
      },
      "source": [
        "(10 * 0.1403051) + (-10 * (1 - 0.1403051))"
      ],
      "execution_count": null,
      "outputs": [
        {
          "output_type": "execute_result",
          "data": {
            "text/plain": [
              "-7.193898000000001"
            ]
          },
          "metadata": {
            "tags": []
          },
          "execution_count": 42
        }
      ]
    },
    {
      "cell_type": "markdown",
      "metadata": {
        "id": "kGv1C_EZrJt2"
      },
      "source": [
        "Ahora bien como tenemos una probabilidad de 1/10(0.1) de obtener un hot deck y de 9/10 de obtener un deck normal(0.9) entonces podemos estimar la ganancia total como:"
      ]
    },
    {
      "cell_type": "code",
      "metadata": {
        "id": "plWhwYtYrJt3",
        "outputId": "852bf4bb-85f2-4ea3-e5e4-b0ec235b8714",
        "colab": {
          "base_uri": "https://localhost:8080/",
          "height": 35
        }
      },
      "source": [
        "(66.66666666666691 * 0.1)+(-7.193898*(1 - 0.1))"
      ],
      "execution_count": null,
      "outputs": [
        {
          "output_type": "execute_result",
          "data": {
            "text/plain": [
              "0.192158466666692"
            ]
          },
          "metadata": {
            "tags": []
          },
          "execution_count": 43
        }
      ]
    },
    {
      "cell_type": "markdown",
      "metadata": {
        "id": "TyaXZm5hrJuA"
      },
      "source": [
        "Y al mirar los 600 juegos obtenemos:"
      ]
    },
    {
      "cell_type": "code",
      "metadata": {
        "id": "asN_GnbZrJuC",
        "outputId": "72b8ca33-2afe-4e3b-ac08-9a83b97b8155",
        "colab": {
          "base_uri": "https://localhost:8080/",
          "height": 35
        }
      },
      "source": [
        "0.192158466666692 * 600"
      ],
      "execution_count": null,
      "outputs": [
        {
          "output_type": "execute_result",
          "data": {
            "text/plain": [
              "115.2950800000152"
            ]
          },
          "metadata": {
            "tags": []
          },
          "execution_count": 44
        }
      ]
    },
    {
      "cell_type": "code",
      "metadata": {
        "id": "kQ6i5WdGx5w_",
        "outputId": "c346fe8c-ea71-43aa-e7b6-1d2e1cb313a6",
        "colab": {
          "base_uri": "https://localhost:8080/",
          "height": 34
        }
      },
      "source": [
        "#Punto 5. Baraja naipes\n",
        "import numpy as np\n",
        "import random\n",
        "import matplotlib.pyplot as plt\n",
        "\n",
        "hours = 10\n",
        "game = 3\n",
        "minutos = hours * 60\n",
        "n = minutos\n",
        "count21 = 0\n",
        "prnc = 0\n",
        "num_cards = []\n",
        "prompdinero = []\n",
        "count = 0\n",
        "for i in range(10000):\n",
        "  dinero = 0\n",
        "  #dinero = []\n",
        "  for j in range(n):\n",
        "    hot = random.randint(0,9)\n",
        "    #print(hot)\n",
        "    if hot == 0:\n",
        "      count = count + 1\n",
        "      cartas = [1,1,1,1,2,2,2,2,10,10]\n",
        "      my_cards = [7, 7, 5]\n",
        "      nc = 3\n",
        "      while(sum(my_cards)<21):\n",
        "        card = random.randint(0,len(cartas)-1)\n",
        "        my_cards.append(cartas[card])\n",
        "        cartas.pop(card)\n",
        "        nc = nc + 1\n",
        "      if(sum(my_cards) == 21):\n",
        "        #dinero.append(2000)\n",
        "        dinero = dinero + 1000\n",
        "      else:\n",
        "        #dinero.append(-1000)\n",
        "        dinero = dinero - 1000\n",
        "    else:\n",
        "      cartas = [1,2,3,4,5,6,7,8,9,10,10,10,10,1,2,3,4,5,6,7,8,9,10,10,10,10,1,2,3,4,5,6,7,8,9,10,10,10,10,1,2,3,4,5,6,7,8,9,10,10,10,10]\n",
        "      my_cards = []\n",
        "      nc = 0\n",
        "      while(sum(my_cards)<21):\n",
        "        card = random.randint(0,len(cartas)-1)\n",
        "        my_cards.append(cartas[card])\n",
        "        cartas.pop(card)\n",
        "        nc = nc+1\n",
        "      if(sum(my_cards) == 21):\n",
        "        dinero = dinero + 10\n",
        "      else:\n",
        "        dinero = dinero - 10\n",
        "\n",
        "  prompdinero.append(dinero)\n",
        "\n",
        "prompdinero = np.asarray(prompdinero)\n",
        "print(prompdinero.mean())"
      ],
      "execution_count": 4,
      "outputs": [
        {
          "output_type": "stream",
          "text": [
            "184.479\n"
          ],
          "name": "stdout"
        }
      ]
    }
  ]
}